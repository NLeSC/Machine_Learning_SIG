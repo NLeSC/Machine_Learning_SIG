{
 "cells": [
  {
   "cell_type": "code",
   "execution_count": 1,
   "metadata": {
    "collapsed": false
   },
   "outputs": [
    {
     "name": "stdout",
     "output_type": "stream",
     "text": [
      "Populating the interactive namespace from numpy and matplotlib\n"
     ]
    }
   ],
   "source": [
    "%pylab inline"
   ]
  },
  {
   "cell_type": "code",
   "execution_count": 2,
   "metadata": {
    "collapsed": true
   },
   "outputs": [],
   "source": [
    "# import matplotlib.pyplot as plt\n",
    "# # Import datasets, classifiers and performance metrics\n",
    "# from sklearn import datasets\n",
    "# from sklearn import svm, metrics\n",
    "# from sklearn.datasets import fetch_mldata"
   ]
  },
  {
   "cell_type": "code",
   "execution_count": 3,
   "metadata": {
    "collapsed": true
   },
   "outputs": [],
   "source": [
    "# from sklearn.metrics import accuracy_score"
   ]
  },
  {
   "cell_type": "code",
   "execution_count": 4,
   "metadata": {
    "collapsed": false
   },
   "outputs": [],
   "source": [
    "# # Create a classifier: a support vector classifier\n",
    "# classifier = svm.SVC(gamma=0.001)\n",
    "\n",
    "# number_sample = n_samples // 2\n",
    "# print('Number of samples: {0}'.format(number_sample))\n",
    "# training_set = data[:number_sample]\n",
    "\n",
    "# # We learn the digits on the first half of the digits\n",
    "# classifier.fit(training_set, digits.target[:number_sample])\n",
    "\n",
    "# test_set = data[number_sample:]\n",
    "# # Now predict the value of the digit on the second half:\n",
    "# expected = digits.target[number_sample:]\n",
    "# predicted = classifier.predict(test_set)\n"
   ]
  },
  {
   "cell_type": "code",
   "execution_count": 5,
   "metadata": {
    "collapsed": false
   },
   "outputs": [],
   "source": [
    "# print(\"Classification report for classifier %s:\\n%s\\n\"\n",
    "#       % (classifier, metrics.classification_report(expected, predicted)))\n",
    "# print(\"Confusion matrix:\\n%s\" % metrics.confusion_matrix(expected, predicted))\n",
    "\n",
    "# images_and_predictions = list(zip(digits.images[n_samples // 2:], predicted))\n",
    "# for index, (image, prediction) in enumerate(images_and_predictions[:4]):\n",
    "#     plt.subplot(2, 4, index + 5)\n",
    "#     plt.axis('off')\n",
    "#     plt.imshow(image, cmap=plt.cm.gray_r, interpolation='nearest')\n",
    "#     plt.title('Prediction: %i' % prediction)\n",
    "\n",
    "# plt.show()"
   ]
  },
  {
   "cell_type": "code",
   "execution_count": 2,
   "metadata": {
    "collapsed": false
   },
   "outputs": [
    {
     "name": "stderr",
     "output_type": "stream",
     "text": [
      "/home/elena/anaconda3/lib/python3.6/site-packages/sklearn/cross_validation.py:44: DeprecationWarning: This module was deprecated in version 0.18 in favor of the model_selection module into which all the refactored classes and functions are moved. Also note that the interface of the new CV iterators are different from that of this module. This module will be removed in 0.20.\n",
      "  \"This module will be removed in 0.20.\", DeprecationWarning)\n"
     ]
    }
   ],
   "source": [
    "from sklearn import datasets\n",
    "from sklearn.neighbors import KNeighborsClassifier\n",
    "from sklearn.model_selection import train_test_split\n",
    "from sklearn.metrics import accuracy_score\n",
    "from sklearn.cross_validation import train_test_split\n",
    "\n"
   ]
  },
  {
   "cell_type": "code",
   "execution_count": 3,
   "metadata": {
    "collapsed": true
   },
   "outputs": [],
   "source": [
    "\n",
    "mnist = datasets.fetch_mldata('MNIST original', data_home='./data')\n"
   ]
  },
  {
   "cell_type": "code",
   "execution_count": null,
   "metadata": {
    "collapsed": true
   },
   "outputs": [],
   "source": [
    "clf = KNeighborsClassifier()\n"
   ]
  },
  {
   "cell_type": "code",
   "execution_count": 34,
   "metadata": {
    "collapsed": false,
    "scrolled": true
   },
   "outputs": [
    {
     "name": "stdout",
     "output_type": "stream",
     "text": [
      "test sample:  10   prediction accuracy: 0.161057142857\n",
      "test sample:  20   prediction accuracy: 0.290228571429\n",
      "test sample:  30   prediction accuracy: 0.405657142857\n",
      "test sample:  40   prediction accuracy: 0.465\n",
      "test sample:  50   prediction accuracy: 0.533685714286\n",
      "test sample:  60   prediction accuracy: 0.540542857143\n",
      "test sample:  70   prediction accuracy: 0.573428571429\n",
      "test sample:  80   prediction accuracy: 0.5868\n",
      "test sample:  90   prediction accuracy: 0.6168\n",
      "test sample:  100   prediction accuracy: 0.620828571429\n",
      "Prediction accuracies: [0.16105714285714287, 0.29022857142857145, 0.40565714285714288, 0.46500000000000002, 0.53368571428571432, 0.5405428571428571, 0.5734285714285714, 0.58679999999999999, 0.61680000000000001, 0.6208285714285714]\n"
     ]
    }
   ],
   "source": [
    "accuracy_all = []\n",
    "for i in range(10,110,10):\n",
    "\n",
    "    train_sample_size = i\n",
    "    test_sample_size  = 0.5\n",
    "    train_data, test_data, train_labels, test_labels = train_test_split(mnist.data, \n",
    "            mnist.target, train_size=train_sample_size, test_size=test_sample_size, random_state=42)\n",
    "\n",
    "#     print(mnist.data.shape)\n",
    "#     print(mnist.target.shape)\n",
    "\n",
    "#     print(train_data.shape)\n",
    "#     print(train_labels.shape)\n",
    "\n",
    "#     print(test_data.shape)\n",
    "#     print(test_labels.shape)\n",
    "\n",
    "    clf.fit(train_data, train_labels)\n",
    "\n",
    "    predicted_labels = clf.predict(test_data)\n",
    "    accuracy = accuracy_score(test_labels, predicted_labels)\n",
    "\n",
    "    print('test sample: ', i, '  prediction accuracy:', accuracy)\n",
    "    accuracy_all.append(accuracy)\n",
    "\n",
    "print('Prediction accuracies:', accuracy_all)"
   ]
  },
  {
   "cell_type": "code",
   "execution_count": 30,
   "metadata": {
    "collapsed": false
   },
   "outputs": [
    {
     "name": "stdout",
     "output_type": "stream",
     "text": [
      "Prediction accuracy: 0.331804543506\n"
     ]
    }
   ],
   "source": []
  },
  {
   "cell_type": "code",
   "execution_count": null,
   "metadata": {
    "collapsed": false
   },
   "outputs": [],
   "source": [
    "# accuracy_score(expected, predicted, normalize=True) \n"
   ]
  },
  {
   "cell_type": "code",
   "execution_count": null,
   "metadata": {
    "collapsed": false
   },
   "outputs": [],
   "source": [
    "# print(n_samples)\n",
    "\n",
    "# from sklearn.utils import shuffle\n",
    "# shuffle(data, n_samples=2, random_state=0)\n",
    "# array([0, 1])"
   ]
  },
  {
   "cell_type": "code",
   "execution_count": null,
   "metadata": {
    "collapsed": true
   },
   "outputs": [],
   "source": []
  },
  {
   "cell_type": "code",
   "execution_count": null,
   "metadata": {
    "collapsed": true
   },
   "outputs": [],
   "source": []
  }
 ],
 "metadata": {
  "kernelspec": {
   "display_name": "Python 3",
   "language": "python",
   "name": "python3"
  },
  "language_info": {
   "codemirror_mode": {
    "name": "ipython",
    "version": 3
   },
   "file_extension": ".py",
   "mimetype": "text/x-python",
   "name": "python",
   "nbconvert_exporter": "python",
   "pygments_lexer": "ipython3",
   "version": "3.6.0"
  }
 },
 "nbformat": 4,
 "nbformat_minor": 2
}
