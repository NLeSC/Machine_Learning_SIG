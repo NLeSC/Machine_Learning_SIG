{
 "cells": [
  {
   "cell_type": "code",
   "execution_count": 75,
   "metadata": {
    "collapsed": false
   },
   "outputs": [],
   "source": [
    "import matplotlib.pyplot as plt\n",
    "import numpy as np\n",
    "from mnist import read\n",
    "\n",
    "flat_shape = 28 * 28\n",
    "\n",
    "%matplotlib inline"
   ]
  },
  {
   "cell_type": "code",
   "execution_count": 124,
   "metadata": {
    "collapsed": false
   },
   "outputs": [],
   "source": [
    "# Do some PCA\n",
    "from sklearn.decomposition import PCA\n",
    "\n",
    "reader = read()\n",
    "\n",
    "batch_size = 60000\n",
    "\n",
    "x = np.zeros((batch_size, flat_shape))\n",
    "y = np.zeros(batch_size)\n",
    "for i in range(batch_size):\n",
    "    img = next(reader)\n",
    "\n",
    "    x[i] = img[1].reshape(flat_shape)\n",
    "    y[i] = img[0]\n",
    "\n",
    "\n",
    "my_pca = PCA(10)\n",
    "\n",
    "x_transformed = my_pca.fit_transform(x)"
   ]
  },
  {
   "cell_type": "code",
   "execution_count": 147,
   "metadata": {
    "collapsed": false
   },
   "outputs": [],
   "source": [
    "from sklearn.model_selection import train_test_split\n",
    "X_train, unlabeled, y_train, y_unlabelled = train_test_split(x_transformed, y, test_size=60000-10, train_size=10,\n",
    "                                                    random_state=42, stratify=y)"
   ]
  },
  {
   "cell_type": "code",
   "execution_count": 148,
   "metadata": {
    "collapsed": false
   },
   "outputs": [
    {
     "name": "stdout",
     "output_type": "stream",
     "text": [
      "(59990, 10)\n"
     ]
    }
   ],
   "source": [
    "print(unlabeled.shape)"
   ]
  },
  {
   "cell_type": "code",
   "execution_count": 143,
   "metadata": {
    "collapsed": false
   },
   "outputs": [
    {
     "data": {
      "text/plain": [
       "RandomForestClassifier(bootstrap=True, class_weight=None, criterion='gini',\n",
       "            max_depth=2, max_features='auto', max_leaf_nodes=None,\n",
       "            min_impurity_decrease=0.0, min_impurity_split=None,\n",
       "            min_samples_leaf=1, min_samples_split=2,\n",
       "            min_weight_fraction_leaf=0.0, n_estimators=10, n_jobs=1,\n",
       "            oob_score=False, random_state=0, verbose=0, warm_start=False)"
      ]
     },
     "execution_count": 143,
     "metadata": {},
     "output_type": "execute_result"
    }
   ],
   "source": [
    "# Train the model\n",
    "from sklearn.ensemble import RandomForestClassifier\n",
    "\n",
    "model = RandomForestClassifier(max_depth=2, random_state=0)\n",
    "model.fit(X_train, y_train)"
   ]
  },
  {
   "cell_type": "code",
   "execution_count": 222,
   "metadata": {
    "collapsed": false
   },
   "outputs": [
    {
     "name": "stdout",
     "output_type": "stream",
     "text": [
      "332\n",
      "[ 0.13666667  0.11666667  0.09166667  0.09833333  0.12666667  0.11666667\n",
      "  0.045       0.12        0.05        0.09833333]\n",
      "0.136666666667\n"
     ]
    }
   ],
   "source": [
    "predictions = model.predict_proba(unlabeled)\n",
    "\n",
    "prob_max = np.argmax(predictions, axis=1)\n",
    "\n",
    "y_hat = predictions[np.arange(len(predictions)), prob_max]\n",
    "\n",
    "least_confident = np.argmax(1 - y_hat)\n",
    "\n",
    "print(least_confident)\n",
    "\n",
    "print(predictions[332])\n",
    "print(max(predictions[332]))\n",
    "\n"
   ]
  },
  {
   "cell_type": "code",
   "execution_count": 181,
   "metadata": {
    "collapsed": false
   },
   "outputs": [
    {
     "data": {
      "text/plain": [
       "array([[0, 1, 2, 3, 4, 5, 6, 7, 8, 9],\n",
       "       [8, 8, 0, 0, 8, 0, 0, 4, 0, 1]])"
      ]
     },
     "execution_count": 181,
     "metadata": {},
     "output_type": "execute_result"
    }
   ],
   "source": []
  },
  {
   "cell_type": "code",
   "execution_count": 144,
   "metadata": {
    "collapsed": true
   },
   "outputs": [],
   "source": [
    "reader = read()"
   ]
  },
  {
   "cell_type": "code",
   "execution_count": 151,
   "metadata": {
    "collapsed": false
   },
   "outputs": [
    {
     "name": "stdout",
     "output_type": "stream",
     "text": [
      "Predicted:  9\n",
      "Confidence:  [ 0.03666667  0.11666667  0.09166667  0.09833333  0.14333333  0.03333333\n",
      "  0.07833333  0.02        0.16666667  0.215     ]\n",
      "Actual:  9\n"
     ]
    },
    {
     "data": {
      "text/plain": [
       "<matplotlib.image.AxesImage at 0x7fbe6d044da0>"
      ]
     },
     "execution_count": 151,
     "metadata": {},
     "output_type": "execute_result"
    },
    {
     "data": {
      "image/png": "[encoded data removed]",
      "text/plain": [
       "<matplotlib.figure.Figure at 0x7fbe6d37a4a8>"
      ]
     },
     "metadata": {},
     "output_type": "display_data"
    }
   ],
   "source": [
    "img = next(reader)\n",
    "\n",
    "X = my_pca.transform(img[1].reshape(flat_shape).reshape(1, -1))\n",
    "\n",
    "answer = model.predict_proba(X)\n",
    "\n",
    "print(\"Predicted: \", np.argmax(answer[0]))\n",
    "print(\"Confidence: \", answer[0])\n",
    "print(\"Actual: \", img[0])\n",
    "\n",
    "plt.imshow(img[1], cmap=plt.cm.gray)"
   ]
  },
  {
   "cell_type": "code",
   "execution_count": 53,
   "metadata": {
    "collapsed": false
   },
   "outputs": [
    {
     "name": "stdout",
     "output_type": "stream",
     "text": [
      "Predicted:  [0]\n",
      "Actual:  0\n"
     ]
    },
    {
     "data": {
      "text/plain": [
       "<matplotlib.image.AxesImage at 0x7fbe73853780>"
      ]
     },
     "execution_count": 53,
     "metadata": {},
     "output_type": "execute_result"
    },
    {
     "data": {
      "image/png": "[encoded data removed]",
      "text/plain": [
       "<matplotlib.figure.Figure at 0x7fbe73900668>"
      ]
     },
     "metadata": {},
     "output_type": "display_data"
    }
   ],
   "source": []
  },
  {
   "cell_type": "code",
   "execution_count": null,
   "metadata": {
    "collapsed": true
   },
   "outputs": [],
   "source": []
  }
 ],
 "metadata": {
  "kernelspec": {
   "display_name": "Python 3",
   "language": "python",
   "name": "python3"
  },
  "language_info": {
   "codemirror_mode": {
    "name": "ipython",
    "version": 3
   },
   "file_extension": ".py",
   "mimetype": "text/x-python",
   "name": "python",
   "nbconvert_exporter": "python",
   "pygments_lexer": "ipython3",
   "version": "3.5.2"
  }
 },
 "nbformat": 4,
 "nbformat_minor": 0
}
