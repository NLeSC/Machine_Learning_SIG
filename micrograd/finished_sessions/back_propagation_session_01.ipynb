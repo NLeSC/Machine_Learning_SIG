{
 "cells": [
  {
   "cell_type": "markdown",
   "id": "7cc6c3e9",
   "metadata": {},
   "source": [
    "# Micrograd: Tutorial on automatic differentiation using backpropagation\n",
    "## by Andrej Karpathy"
   ]
  },
  {
   "cell_type": "markdown",
   "id": "c2ee7b79",
   "metadata": {},
   "source": [
    "This notebook just contains the code that he copy-pastes and that is too long to type along, along with a time stamp referring to [the video](https://www.youtube.com/watch?v=VMj-3S1tku0).\n",
    "You will need to change this code later, so it is easiest to follow along by just adding to this notebook."
   ]
  },
  {
   "cell_type": "markdown",
   "id": "7aadb81a",
   "metadata": {},
   "source": [
    "# Preliminary exploration"
   ]
  },
  {
   "cell_type": "markdown",
   "id": "4f2772f0",
   "metadata": {},
   "source": [
    "## Required modules"
   ]
  },
  {
   "cell_type": "markdown",
   "id": "92476714",
   "metadata": {},
   "source": [
    "Dependencies for math operations and plotting"
   ]
  },
  {
   "cell_type": "code",
   "execution_count": 94,
   "id": "1cb5072b",
   "metadata": {},
   "outputs": [],
   "source": [
    "import math\n",
    "import numpy as np\n",
    "import matplotlib.pyplot as plt\n",
    "%matplotlib inline"
   ]
  },
  {
   "cell_type": "markdown",
   "id": "478e5243",
   "metadata": {},
   "source": [
    "## Functions of a single variable"
   ]
  },
  {
   "cell_type": "code",
   "execution_count": 95,
   "id": "34d3a784",
   "metadata": {},
   "outputs": [],
   "source": [
    "def f(x):\n",
    "    return 3.0*x**2 - 4.0*x + 5.0"
   ]
  },
  {
   "cell_type": "code",
   "execution_count": 96,
   "id": "f3093e6f",
   "metadata": {
    "scrolled": true
   },
   "outputs": [
    {
     "data": {
      "text/plain": [
       "20.0"
      ]
     },
     "execution_count": 96,
     "metadata": {},
     "output_type": "execute_result"
    }
   ],
   "source": [
    "f(3.0)"
   ]
  },
  {
   "cell_type": "code",
   "execution_count": 97,
   "id": "bba38ffc",
   "metadata": {
    "scrolled": true
   },
   "outputs": [
    {
     "data": {
      "text/plain": [
       "[<matplotlib.lines.Line2D at 0x117260100>]"
      ]
     },
     "execution_count": 97,
     "metadata": {},
     "output_type": "execute_result"
    },
    {
     "data": {
      "image/png": "[encoded data removed]",
      "text/plain": [
       "<Figure size 640x480 with 1 Axes>"
      ]
     },
     "metadata": {},
     "output_type": "display_data"
    }
   ],
   "source": [
    "xs = np.arange(-5, 5, 0.25)\n",
    "ys = f(xs)\n",
    "plt.plot(xs, ys)"
   ]
  },
  {
   "cell_type": "markdown",
   "id": "431a7855",
   "metadata": {},
   "source": [
    "### Numerical derivative"
   ]
  },
  {
   "cell_type": "code",
   "execution_count": 98,
   "id": "1f164402",
   "metadata": {
    "scrolled": true
   },
   "outputs": [
    {
     "data": {
      "text/plain": [
       "14.00300000000243"
      ]
     },
     "execution_count": 98,
     "metadata": {},
     "output_type": "execute_result"
    }
   ],
   "source": [
    "h = 0.001\n",
    "x = 3.0\n",
    "(f(x + h) - f(x))/h  # fill in"
   ]
  },
  {
   "cell_type": "markdown",
   "id": "0edbe63c",
   "metadata": {},
   "source": [
    "## Functions of multiple variables"
   ]
  },
  {
   "cell_type": "code",
   "execution_count": 101,
   "id": "8e75d516",
   "metadata": {
    "scrolled": false
   },
   "outputs": [
    {
     "name": "stdout",
     "output_type": "stream",
     "text": [
      "4.0\n"
     ]
    }
   ],
   "source": [
    "# Let's get more complex\n",
    "\n",
    "# Inputs\n",
    "a = 2.0\n",
    "b = -3.0\n",
    "c = 10.0\n",
    "\n",
    "# Function\n",
    "d = lambda a,b,c: a*b + c\n",
    "print(d(a, b, c))"
   ]
  },
  {
   "cell_type": "markdown",
   "id": "2451e7bd",
   "metadata": {},
   "source": [
    "### Numerical derivative"
   ]
  },
  {
   "cell_type": "markdown",
   "id": "833fb400",
   "metadata": {},
   "source": [
    "Similar implementation to the video, but using a function to define `d` to make it a bit cleaner."
   ]
  },
  {
   "cell_type": "code",
   "execution_count": 105,
   "id": "a2bace56",
   "metadata": {},
   "outputs": [
    {
     "name": "stdout",
     "output_type": "stream",
     "text": [
      "Variation in a:\n",
      "   d1 4.0\n",
      "   d2 3.999699999999999\n",
      "   slope -3.000000000010772\n",
      "\n",
      "Variation in b:\n",
      "   d1 4.0\n",
      "   d2 4.0002\n",
      "   slope 2.0000000000042206\n",
      "\n",
      "Variation in c:\n",
      "   d1 4.0\n",
      "   d2 4.0001\n",
      "   slope 0.9999999999976694\n"
     ]
    }
   ],
   "source": [
    "h = 0.0001\n",
    "\n",
    "# Inputs\n",
    "a = 2.0\n",
    "b = -3.0\n",
    "c = 10.0\n",
    "\n",
    "\n",
    "# Function with variations\n",
    "\n",
    "# Variation in a\n",
    "d1 = d(a, b, c)\n",
    "d2 = d(a+h, b, c)\n",
    "print('Variation in a:')\n",
    "print('   d1', d1)\n",
    "print('   d2', d2)\n",
    "print('   slope', (d2 - d1)/h)  # the derivative\n",
    "\n",
    "# Variation in b\n",
    "d1 = d(a, b, c)\n",
    "d2 = d(a, b+h, c)\n",
    "print('\\nVariation in b:')\n",
    "print('   d1', d1)\n",
    "print('   d2', d2)\n",
    "print('   slope', (d2 - d1)/h)  # the derivative\n",
    "\n",
    "# Variation in c\n",
    "d1 = d(a, b, c)\n",
    "d2 = d(a, b, c+h)\n",
    "print('\\nVariation in c:')\n",
    "print('   d1', d1)\n",
    "print('   d2', d2)\n",
    "print('   slope', (d2 - d1)/h)  # the derivative"
   ]
  },
  {
   "cell_type": "markdown",
   "id": "1033fbb8",
   "metadata": {},
   "source": [
    "# Micrograd"
   ]
  },
  {
   "cell_type": "markdown",
   "id": "c229455d",
   "metadata": {},
   "source": [
    "## Value class"
   ]
  },
  {
   "cell_type": "code",
   "execution_count": 122,
   "id": "b8fe6d8a",
   "metadata": {},
   "outputs": [],
   "source": [
    "class Value:\n",
    "    \n",
    "    def __init__(self, data, _children=(), _op='', label=''):\n",
    "        self.data = data\n",
    "        self.grad = 0.0\n",
    "#         self._backward = lambda: None\n",
    "        self._prev = set(_children)\n",
    "        self._op = _op\n",
    "        self.label = label\n",
    "        \n",
    "    def __repr__(self):\n",
    "        # Print a nice output\n",
    "        return f\"Value(data={self.data})\"\n",
    "    \n",
    "    def __add__(self, other):\n",
    "        # Addition operator\n",
    "        out = Value(self.data + other.data, (self, other), '+')\n",
    "        \n",
    "#         # Define the local derivate backwards propagation\n",
    "#         def _backward():\n",
    "#             self.grad += 1.0 * out.grad\n",
    "#             other.grad += 1.0 * out.grad    \n",
    "#         out._backward = _backward\n",
    "        \n",
    "        return out\n",
    "        \n",
    "    def __mul__(self, other):\n",
    "        # Multiplication operator\n",
    "        out = Value(self.data * other.data, (self, other), '*')\n",
    "        \n",
    "#         # Define the local derivate backwards propagation\n",
    "#         def _backward():\n",
    "#             self.grad += other.data * out.grad \n",
    "#             other.grad += self.data * out.grad    \n",
    "#         out._backward = _backward\n",
    "        \n",
    "        return out\n",
    "    \n",
    "#     def tanh(self):\n",
    "#         # Hyperbolic tangent function\n",
    "#         x = self.data\n",
    "#         t = (math.exp(2.0*x) - 1.0)/(math.exp(2.0*x) + 1)\n",
    "#         out = Value(t, (self, ), 'tanh')\n",
    "        \n",
    "#         # Define the local derivate backwards propagation\n",
    "#         def _backward():\n",
    "#             self.grad += (1 - t**2) * out.grad \n",
    "#         out._backward = _backward\n",
    "        \n",
    "#         return out\n",
    "    \n",
    "#     def backward(self):\n",
    "#         # Topological sorting\n",
    "#         topo = []\n",
    "#         visited = set()\n",
    "#         def build_topo(v):\n",
    "#             if v not in visited:\n",
    "#                 visited.add(v)\n",
    "#                 for child in v._prev:\n",
    "#                     build_topo(child)\n",
    "#                 topo.append(v)\n",
    "#         build_topo(self)\n",
    "        \n",
    "#         # Go over the sorted noded and compute backwards propagation in reverse order\n",
    "#         self.grad = 1.0\n",
    "#         for node in reversed(topo):\n",
    "#             node._backward()\n",
    "    \n",
    "    "
   ]
  },
  {
   "cell_type": "code",
   "execution_count": 123,
   "id": "966a69f3",
   "metadata": {},
   "outputs": [
    {
     "name": "stdout",
     "output_type": "stream",
     "text": [
      "The values a, b,c:\n",
      "Value(data=2.0)\n",
      "Value(data=-3.0)\n",
      "Value(data=10.0)\n",
      "\n",
      "The value of d:\n",
      "Value(data=4.0)\n",
      "\n",
      "The value of L:\n",
      "Value(data=-8.0)\n"
     ]
    }
   ],
   "source": [
    "# Define three values\n",
    "a = Value(2.0, label='a')\n",
    "b = Value(-3.0, label='b')\n",
    "c = Value(10.0, label='c')\n",
    "print('The values a, b,c:')\n",
    "print(a)\n",
    "print(b)\n",
    "print(c)\n",
    "\n",
    "# Do some operations with them and print the result\n",
    "e = a*b; e.label = 'e'\n",
    "d = e + c; d.label='d'\n",
    "f = Value(-2.0, label='f')\n",
    "L = d*f\n",
    "\n",
    "print('\\nThe value of d:')\n",
    "print(d)\n",
    "print('\\nThe value of L:')\n",
    "print(L)"
   ]
  },
  {
   "cell_type": "markdown",
   "id": "20b2fcfb",
   "metadata": {},
   "source": [
    "## Visualization code (at time 25:07)"
   ]
  },
  {
   "cell_type": "markdown",
   "id": "0ddacd6c",
   "metadata": {},
   "source": [
    "Copy pasted code so with visualization functions"
   ]
  },
  {
   "cell_type": "code",
   "execution_count": 124,
   "id": "4170b350",
   "metadata": {},
   "outputs": [],
   "source": [
    "from graphviz import Digraph\n",
    "\n",
    "def trace(root):\n",
    "    # builds a set of all nodes and edges in a graph\n",
    "    nodes, edges = set(), set()\n",
    "    def build(v):\n",
    "        if v not in nodes:\n",
    "            nodes.add(v)\n",
    "            for child in v._prev:\n",
    "                edges.add((child, v))\n",
    "                build(child)\n",
    "    build(root)\n",
    "    return nodes, edges\n",
    "\n",
    "def draw_dot(root):\n",
    "    dot = Digraph(format='svg', graph_attr={'rankdir': 'LR'})  # LR = left to right\n",
    "    \n",
    "    nodes, edges = trace(root)\n",
    "    for n in nodes:\n",
    "        uid = str(id(n))\n",
    "        # for any value in the graph, create a rectangular ('record') node for it\n",
    "        dot.node(name = uid, label = \"{ %s | data %.4f | grad: %.4f}\" % (n.label, n.data, n.grad), shape='record')\n",
    "        if n._op:\n",
    "            # if this value is a result of some operation, create an op node for it\n",
    "            dot.node(name = uid + n._op, label = n._op)\n",
    "            # and connect this node to it\n",
    "            dot.edge(uid + n._op, uid)\n",
    "            \n",
    "    for n1, n2 in edges:\n",
    "        # connect n1 to the op node of n2\n",
    "        dot.edge(str(id(n1)), str(id(n2)) + n2._op)\n",
    "            \n",
    "    return dot"
   ]
  },
  {
   "cell_type": "markdown",
   "id": "6c7f4e14",
   "metadata": {},
   "source": [
    "You can now visualize the ``Value`` objects"
   ]
  },
  {
   "cell_type": "code",
   "execution_count": 125,
   "id": "5f1e29bb",
   "metadata": {},
   "outputs": [
    {
     "data": {
      "image/svg+xml": [
       "<?xml version=\"1.0\" encoding=\"UTF-8\" standalone=\"no\"?>\n",
       "<!DOCTYPE svg PUBLIC \"-//W3C//DTD SVG 1.1//EN\"\n",
       " \"http://www.w3.org/Graphics/SVG/1.1/DTD/svg11.dtd\">\n",
       "<!-- Generated by graphviz version 6.0.1 (0)\n",
       " -->\n",
       "<!-- Pages: 1 -->\n",
       "<svg width=\"839pt\" height=\"128pt\"\n",
       " viewBox=\"0.00 0.00 839.00 128.00\" xmlns=\"http://www.w3.org/2000/svg\" xmlns:xlink=\"http://www.w3.org/1999/xlink\">\n",
       "<g id=\"graph0\" class=\"graph\" transform=\"scale(1 1) rotate(0) translate(4 124)\">\n",
       "<polygon fill=\"white\" stroke=\"none\" points=\"-4,4 -4,-124 835,-124 835,4 -4,4\"/>\n",
       "<!-- 4683465872 -->\n",
       "<g id=\"node1\" class=\"node\">\n",
       "<title>4683465872</title>\n",
       "<polygon fill=\"none\" stroke=\"black\" points=\"642,-27.5 642,-63.5 831,-63.5 831,-27.5 642,-27.5\"/>\n",
       "<text text-anchor=\"middle\" x=\"653.5\" y=\"-41.8\" font-family=\"Times,serif\" font-size=\"14.00\">d</text>\n",
       "<polyline fill=\"none\" stroke=\"black\" points=\"665,-27.5 665,-63.5\"/>\n",
       "<text text-anchor=\"middle\" x=\"705\" y=\"-41.8\" font-family=\"Times,serif\" font-size=\"14.00\">data 4.0000</text>\n",
       "<polyline fill=\"none\" stroke=\"black\" points=\"745,-27.5 745,-63.5\"/>\n",
       "<text text-anchor=\"middle\" x=\"788\" y=\"-41.8\" font-family=\"Times,serif\" font-size=\"14.00\">grad: 0.0000</text>\n",
       "</g>\n",
       "<!-- 4683465872+ -->\n",
       "<g id=\"node2\" class=\"node\">\n",
       "<title>4683465872+</title>\n",
       "<ellipse fill=\"none\" stroke=\"black\" cx=\"579\" cy=\"-45.5\" rx=\"27\" ry=\"18\"/>\n",
       "<text text-anchor=\"middle\" x=\"579\" y=\"-41.8\" font-family=\"Times,serif\" font-size=\"14.00\">+</text>\n",
       "</g>\n",
       "<!-- 4683465872+&#45;&gt;4683465872 -->\n",
       "<g id=\"edge1\" class=\"edge\">\n",
       "<title>4683465872+&#45;&gt;4683465872</title>\n",
       "<path fill=\"none\" stroke=\"black\" d=\"M606.03,-45.5C613.66,-45.5 622.52,-45.5 631.94,-45.5\"/>\n",
       "<polygon fill=\"black\" stroke=\"black\" points=\"631.94,-49 641.94,-45.5 631.94,-42 631.94,-49\"/>\n",
       "</g>\n",
       "<!-- 4683590816 -->\n",
       "<g id=\"node3\" class=\"node\">\n",
       "<title>4683590816</title>\n",
       "<polygon fill=\"none\" stroke=\"black\" points=\"0,-83.5 0,-119.5 194,-119.5 194,-83.5 0,-83.5\"/>\n",
       "<text text-anchor=\"middle\" x=\"11.5\" y=\"-97.8\" font-family=\"Times,serif\" font-size=\"14.00\">b</text>\n",
       "<polyline fill=\"none\" stroke=\"black\" points=\"23,-83.5 23,-119.5\"/>\n",
       "<text text-anchor=\"middle\" x=\"65.5\" y=\"-97.8\" font-family=\"Times,serif\" font-size=\"14.00\">data &#45;3.0000</text>\n",
       "<polyline fill=\"none\" stroke=\"black\" points=\"108,-83.5 108,-119.5\"/>\n",
       "<text text-anchor=\"middle\" x=\"151\" y=\"-97.8\" font-family=\"Times,serif\" font-size=\"14.00\">grad: 0.0000</text>\n",
       "</g>\n",
       "<!-- 4681133408* -->\n",
       "<g id=\"node5\" class=\"node\">\n",
       "<title>4681133408*</title>\n",
       "<ellipse fill=\"none\" stroke=\"black\" cx=\"257\" cy=\"-73.5\" rx=\"27\" ry=\"18\"/>\n",
       "<text text-anchor=\"middle\" x=\"257\" y=\"-69.8\" font-family=\"Times,serif\" font-size=\"14.00\">*</text>\n",
       "</g>\n",
       "<!-- 4683590816&#45;&gt;4681133408* -->\n",
       "<g id=\"edge4\" class=\"edge\">\n",
       "<title>4683590816&#45;&gt;4681133408*</title>\n",
       "<path fill=\"none\" stroke=\"black\" d=\"M194.01,-84.49C203.35,-82.83 212.37,-81.23 220.49,-79.79\"/>\n",
       "<polygon fill=\"black\" stroke=\"black\" points=\"221.37,-83.19 230.6,-78 220.15,-76.3 221.37,-83.19\"/>\n",
       "</g>\n",
       "<!-- 4681133408 -->\n",
       "<g id=\"node4\" class=\"node\">\n",
       "<title>4681133408</title>\n",
       "<polygon fill=\"none\" stroke=\"black\" points=\"321,-55.5 321,-91.5 515,-91.5 515,-55.5 321,-55.5\"/>\n",
       "<text text-anchor=\"middle\" x=\"332.5\" y=\"-69.8\" font-family=\"Times,serif\" font-size=\"14.00\">e</text>\n",
       "<polyline fill=\"none\" stroke=\"black\" points=\"344,-55.5 344,-91.5\"/>\n",
       "<text text-anchor=\"middle\" x=\"386.5\" y=\"-69.8\" font-family=\"Times,serif\" font-size=\"14.00\">data &#45;6.0000</text>\n",
       "<polyline fill=\"none\" stroke=\"black\" points=\"429,-55.5 429,-91.5\"/>\n",
       "<text text-anchor=\"middle\" x=\"472\" y=\"-69.8\" font-family=\"Times,serif\" font-size=\"14.00\">grad: 0.0000</text>\n",
       "</g>\n",
       "<!-- 4681133408&#45;&gt;4683465872+ -->\n",
       "<g id=\"edge5\" class=\"edge\">\n",
       "<title>4681133408&#45;&gt;4683465872+</title>\n",
       "<path fill=\"none\" stroke=\"black\" d=\"M515.16,-56.57C524.82,-54.87 534.13,-53.23 542.49,-51.75\"/>\n",
       "<polygon fill=\"black\" stroke=\"black\" points=\"543.3,-55.17 552.54,-49.98 542.08,-48.27 543.3,-55.17\"/>\n",
       "</g>\n",
       "<!-- 4681133408*&#45;&gt;4681133408 -->\n",
       "<g id=\"edge2\" class=\"edge\">\n",
       "<title>4681133408*&#45;&gt;4681133408</title>\n",
       "<path fill=\"none\" stroke=\"black\" d=\"M284.26,-73.5C292.05,-73.5 301.1,-73.5 310.75,-73.5\"/>\n",
       "<polygon fill=\"black\" stroke=\"black\" points=\"310.99,-77 320.99,-73.5 310.99,-70 310.99,-77\"/>\n",
       "</g>\n",
       "<!-- 4683589520 -->\n",
       "<g id=\"node6\" class=\"node\">\n",
       "<title>4683589520</title>\n",
       "<polygon fill=\"none\" stroke=\"black\" points=\"2.5,-28.5 2.5,-64.5 191.5,-64.5 191.5,-28.5 2.5,-28.5\"/>\n",
       "<text text-anchor=\"middle\" x=\"14\" y=\"-42.8\" font-family=\"Times,serif\" font-size=\"14.00\">a</text>\n",
       "<polyline fill=\"none\" stroke=\"black\" points=\"25.5,-28.5 25.5,-64.5\"/>\n",
       "<text text-anchor=\"middle\" x=\"65.5\" y=\"-42.8\" font-family=\"Times,serif\" font-size=\"14.00\">data 2.0000</text>\n",
       "<polyline fill=\"none\" stroke=\"black\" points=\"105.5,-28.5 105.5,-64.5\"/>\n",
       "<text text-anchor=\"middle\" x=\"148.5\" y=\"-42.8\" font-family=\"Times,serif\" font-size=\"14.00\">grad: 0.0000</text>\n",
       "</g>\n",
       "<!-- 4683589520&#45;&gt;4681133408* -->\n",
       "<g id=\"edge6\" class=\"edge\">\n",
       "<title>4683589520&#45;&gt;4681133408*</title>\n",
       "<path fill=\"none\" stroke=\"black\" d=\"M191.74,-62.52C201.85,-64.25 211.62,-65.92 220.37,-67.41\"/>\n",
       "<polygon fill=\"black\" stroke=\"black\" points=\"220.04,-70.9 230.48,-69.14 221.22,-64 220.04,-70.9\"/>\n",
       "</g>\n",
       "<!-- 4658978240 -->\n",
       "<g id=\"node7\" class=\"node\">\n",
       "<title>4658978240</title>\n",
       "<polygon fill=\"none\" stroke=\"black\" points=\"320,-0.5 320,-36.5 516,-36.5 516,-0.5 320,-0.5\"/>\n",
       "<text text-anchor=\"middle\" x=\"331.5\" y=\"-14.8\" font-family=\"Times,serif\" font-size=\"14.00\">c</text>\n",
       "<polyline fill=\"none\" stroke=\"black\" points=\"343,-0.5 343,-36.5\"/>\n",
       "<text text-anchor=\"middle\" x=\"386.5\" y=\"-14.8\" font-family=\"Times,serif\" font-size=\"14.00\">data 10.0000</text>\n",
       "<polyline fill=\"none\" stroke=\"black\" points=\"430,-0.5 430,-36.5\"/>\n",
       "<text text-anchor=\"middle\" x=\"473\" y=\"-14.8\" font-family=\"Times,serif\" font-size=\"14.00\">grad: 0.0000</text>\n",
       "</g>\n",
       "<!-- 4658978240&#45;&gt;4683465872+ -->\n",
       "<g id=\"edge3\" class=\"edge\">\n",
       "<title>4658978240&#45;&gt;4683465872+</title>\n",
       "<path fill=\"none\" stroke=\"black\" d=\"M516.07,-34.98C525.42,-36.57 534.43,-38.1 542.55,-39.48\"/>\n",
       "<polygon fill=\"black\" stroke=\"black\" points=\"542.21,-42.97 552.65,-41.2 543.38,-36.07 542.21,-42.97\"/>\n",
       "</g>\n",
       "</g>\n",
       "</svg>\n"
      ],
      "text/plain": [
       "<graphviz.graphs.Digraph at 0x11728d2e0>"
      ]
     },
     "execution_count": 125,
     "metadata": {},
     "output_type": "execute_result"
    }
   ],
   "source": [
    "draw_dot(d)"
   ]
  },
  {
   "cell_type": "code",
   "execution_count": 143,
   "id": "3b5d4826",
   "metadata": {},
   "outputs": [
    {
     "data": {
      "image/svg+xml": [
       "<?xml version=\"1.0\" encoding=\"UTF-8\" standalone=\"no\"?>\n",
       "<!DOCTYPE svg PUBLIC \"-//W3C//DTD SVG 1.1//EN\"\n",
       " \"http://www.w3.org/Graphics/SVG/1.1/DTD/svg11.dtd\">\n",
       "<!-- Generated by graphviz version 6.0.1 (0)\n",
       " -->\n",
       "<!-- Pages: 1 -->\n",
       "<svg width=\"1160pt\" height=\"128pt\"\n",
       " viewBox=\"0.00 0.00 1160.00 128.00\" xmlns=\"http://www.w3.org/2000/svg\" xmlns:xlink=\"http://www.w3.org/1999/xlink\">\n",
       "<g id=\"graph0\" class=\"graph\" transform=\"scale(1 1) rotate(0) translate(4 124)\">\n",
       "<polygon fill=\"white\" stroke=\"none\" points=\"-4,4 -4,-124 1156,-124 1156,4 -4,4\"/>\n",
       "<!-- 4683465344 -->\n",
       "<g id=\"node1\" class=\"node\">\n",
       "<title>4683465344</title>\n",
       "<polygon fill=\"none\" stroke=\"black\" points=\"642.5,-82.5 642.5,-118.5 834.5,-118.5 834.5,-82.5 642.5,-82.5\"/>\n",
       "<text text-anchor=\"middle\" x=\"653\" y=\"-96.8\" font-family=\"Times,serif\" font-size=\"14.00\">f</text>\n",
       "<polyline fill=\"none\" stroke=\"black\" points=\"663.5,-82.5 663.5,-118.5\"/>\n",
       "<text text-anchor=\"middle\" x=\"706\" y=\"-96.8\" font-family=\"Times,serif\" font-size=\"14.00\">data &#45;2.0000</text>\n",
       "<polyline fill=\"none\" stroke=\"black\" points=\"748.5,-82.5 748.5,-118.5\"/>\n",
       "<text text-anchor=\"middle\" x=\"791.5\" y=\"-96.8\" font-family=\"Times,serif\" font-size=\"14.00\">grad: 4.0000</text>\n",
       "</g>\n",
       "<!-- 4682664784* -->\n",
       "<g id=\"node6\" class=\"node\">\n",
       "<title>4682664784*</title>\n",
       "<ellipse fill=\"none\" stroke=\"black\" cx=\"898\" cy=\"-72.5\" rx=\"27\" ry=\"18\"/>\n",
       "<text text-anchor=\"middle\" x=\"898\" y=\"-68.8\" font-family=\"Times,serif\" font-size=\"14.00\">*</text>\n",
       "</g>\n",
       "<!-- 4683465344&#45;&gt;4682664784* -->\n",
       "<g id=\"edge6\" class=\"edge\">\n",
       "<title>4683465344&#45;&gt;4682664784*</title>\n",
       "<path fill=\"none\" stroke=\"black\" d=\"M834.75,-83.57C844.32,-81.87 853.54,-80.23 861.83,-78.75\"/>\n",
       "<polygon fill=\"black\" stroke=\"black\" points=\"862.54,-82.18 871.78,-76.98 861.32,-75.29 862.54,-82.18\"/>\n",
       "</g>\n",
       "<!-- 4683465872 -->\n",
       "<g id=\"node2\" class=\"node\">\n",
       "<title>4683465872</title>\n",
       "<polygon fill=\"none\" stroke=\"black\" points=\"642,-27.5 642,-63.5 835,-63.5 835,-27.5 642,-27.5\"/>\n",
       "<text text-anchor=\"middle\" x=\"653.5\" y=\"-41.8\" font-family=\"Times,serif\" font-size=\"14.00\">d</text>\n",
       "<polyline fill=\"none\" stroke=\"black\" points=\"665,-27.5 665,-63.5\"/>\n",
       "<text text-anchor=\"middle\" x=\"705\" y=\"-41.8\" font-family=\"Times,serif\" font-size=\"14.00\">data 4.0000</text>\n",
       "<polyline fill=\"none\" stroke=\"black\" points=\"745,-27.5 745,-63.5\"/>\n",
       "<text text-anchor=\"middle\" x=\"790\" y=\"-41.8\" font-family=\"Times,serif\" font-size=\"14.00\">grad: &#45;2.0000</text>\n",
       "</g>\n",
       "<!-- 4683465872&#45;&gt;4682664784* -->\n",
       "<g id=\"edge7\" class=\"edge\">\n",
       "<title>4683465872&#45;&gt;4682664784*</title>\n",
       "<path fill=\"none\" stroke=\"black\" d=\"M835.2,-61.91C844.52,-63.5 853.5,-65.04 861.6,-66.43\"/>\n",
       "<polygon fill=\"black\" stroke=\"black\" points=\"861.24,-69.92 871.68,-68.16 862.42,-63.02 861.24,-69.92\"/>\n",
       "</g>\n",
       "<!-- 4683465872+ -->\n",
       "<g id=\"node3\" class=\"node\">\n",
       "<title>4683465872+</title>\n",
       "<ellipse fill=\"none\" stroke=\"black\" cx=\"579\" cy=\"-45.5\" rx=\"27\" ry=\"18\"/>\n",
       "<text text-anchor=\"middle\" x=\"579\" y=\"-41.8\" font-family=\"Times,serif\" font-size=\"14.00\">+</text>\n",
       "</g>\n",
       "<!-- 4683465872+&#45;&gt;4683465872 -->\n",
       "<g id=\"edge1\" class=\"edge\">\n",
       "<title>4683465872+&#45;&gt;4683465872</title>\n",
       "<path fill=\"none\" stroke=\"black\" d=\"M606.01,-45.5C613.52,-45.5 622.21,-45.5 631.47,-45.5\"/>\n",
       "<polygon fill=\"black\" stroke=\"black\" points=\"631.72,-49 641.72,-45.5 631.72,-42 631.72,-49\"/>\n",
       "</g>\n",
       "<!-- 4683590816 -->\n",
       "<g id=\"node4\" class=\"node\">\n",
       "<title>4683590816</title>\n",
       "<polygon fill=\"none\" stroke=\"black\" points=\"0,-83.5 0,-119.5 194,-119.5 194,-83.5 0,-83.5\"/>\n",
       "<text text-anchor=\"middle\" x=\"11.5\" y=\"-97.8\" font-family=\"Times,serif\" font-size=\"14.00\">b</text>\n",
       "<polyline fill=\"none\" stroke=\"black\" points=\"23,-83.5 23,-119.5\"/>\n",
       "<text text-anchor=\"middle\" x=\"65.5\" y=\"-97.8\" font-family=\"Times,serif\" font-size=\"14.00\">data &#45;3.0000</text>\n",
       "<polyline fill=\"none\" stroke=\"black\" points=\"108,-83.5 108,-119.5\"/>\n",
       "<text text-anchor=\"middle\" x=\"151\" y=\"-97.8\" font-family=\"Times,serif\" font-size=\"14.00\">grad: 0.0000</text>\n",
       "</g>\n",
       "<!-- 4681133408* -->\n",
       "<g id=\"node8\" class=\"node\">\n",
       "<title>4681133408*</title>\n",
       "<ellipse fill=\"none\" stroke=\"black\" cx=\"257\" cy=\"-73.5\" rx=\"27\" ry=\"18\"/>\n",
       "<text text-anchor=\"middle\" x=\"257\" y=\"-69.8\" font-family=\"Times,serif\" font-size=\"14.00\">*</text>\n",
       "</g>\n",
       "<!-- 4683590816&#45;&gt;4681133408* -->\n",
       "<g id=\"edge9\" class=\"edge\">\n",
       "<title>4683590816&#45;&gt;4681133408*</title>\n",
       "<path fill=\"none\" stroke=\"black\" d=\"M194.01,-84.49C203.35,-82.83 212.37,-81.23 220.49,-79.79\"/>\n",
       "<polygon fill=\"black\" stroke=\"black\" points=\"221.37,-83.19 230.6,-78 220.15,-76.3 221.37,-83.19\"/>\n",
       "</g>\n",
       "<!-- 4682664784 -->\n",
       "<g id=\"node5\" class=\"node\">\n",
       "<title>4682664784</title>\n",
       "<polygon fill=\"none\" stroke=\"black\" points=\"961,-54.5 961,-90.5 1152,-90.5 1152,-54.5 961,-54.5\"/>\n",
       "<text text-anchor=\"middle\" x=\"971\" y=\"-68.8\" font-family=\"Times,serif\" font-size=\"14.00\"> </text>\n",
       "<polyline fill=\"none\" stroke=\"black\" points=\"981,-54.5 981,-90.5\"/>\n",
       "<text text-anchor=\"middle\" x=\"1023.5\" y=\"-68.8\" font-family=\"Times,serif\" font-size=\"14.00\">data &#45;8.0000</text>\n",
       "<polyline fill=\"none\" stroke=\"black\" points=\"1066,-54.5 1066,-90.5\"/>\n",
       "<text text-anchor=\"middle\" x=\"1109\" y=\"-68.8\" font-family=\"Times,serif\" font-size=\"14.00\">grad: 1.0000</text>\n",
       "</g>\n",
       "<!-- 4682664784*&#45;&gt;4682664784 -->\n",
       "<g id=\"edge2\" class=\"edge\">\n",
       "<title>4682664784*&#45;&gt;4682664784</title>\n",
       "<path fill=\"none\" stroke=\"black\" d=\"M925.19,-72.5C932.67,-72.5 941.31,-72.5 950.51,-72.5\"/>\n",
       "<polygon fill=\"black\" stroke=\"black\" points=\"950.68,-76 960.68,-72.5 950.68,-69 950.68,-76\"/>\n",
       "</g>\n",
       "<!-- 4681133408 -->\n",
       "<g id=\"node7\" class=\"node\">\n",
       "<title>4681133408</title>\n",
       "<polygon fill=\"none\" stroke=\"black\" points=\"321,-55.5 321,-91.5 515,-91.5 515,-55.5 321,-55.5\"/>\n",
       "<text text-anchor=\"middle\" x=\"332.5\" y=\"-69.8\" font-family=\"Times,serif\" font-size=\"14.00\">e</text>\n",
       "<polyline fill=\"none\" stroke=\"black\" points=\"344,-55.5 344,-91.5\"/>\n",
       "<text text-anchor=\"middle\" x=\"386.5\" y=\"-69.8\" font-family=\"Times,serif\" font-size=\"14.00\">data &#45;6.0000</text>\n",
       "<polyline fill=\"none\" stroke=\"black\" points=\"429,-55.5 429,-91.5\"/>\n",
       "<text text-anchor=\"middle\" x=\"472\" y=\"-69.8\" font-family=\"Times,serif\" font-size=\"14.00\">grad: 4.0000</text>\n",
       "</g>\n",
       "<!-- 4681133408&#45;&gt;4683465872+ -->\n",
       "<g id=\"edge4\" class=\"edge\">\n",
       "<title>4681133408&#45;&gt;4683465872+</title>\n",
       "<path fill=\"none\" stroke=\"black\" d=\"M515.16,-56.57C524.82,-54.87 534.13,-53.23 542.49,-51.75\"/>\n",
       "<polygon fill=\"black\" stroke=\"black\" points=\"543.3,-55.17 552.54,-49.98 542.08,-48.27 543.3,-55.17\"/>\n",
       "</g>\n",
       "<!-- 4681133408*&#45;&gt;4681133408 -->\n",
       "<g id=\"edge3\" class=\"edge\">\n",
       "<title>4681133408*&#45;&gt;4681133408</title>\n",
       "<path fill=\"none\" stroke=\"black\" d=\"M284.26,-73.5C292.05,-73.5 301.1,-73.5 310.75,-73.5\"/>\n",
       "<polygon fill=\"black\" stroke=\"black\" points=\"310.99,-77 320.99,-73.5 310.99,-70 310.99,-77\"/>\n",
       "</g>\n",
       "<!-- 4683589520 -->\n",
       "<g id=\"node9\" class=\"node\">\n",
       "<title>4683589520</title>\n",
       "<polygon fill=\"none\" stroke=\"black\" points=\"2.5,-28.5 2.5,-64.5 191.5,-64.5 191.5,-28.5 2.5,-28.5\"/>\n",
       "<text text-anchor=\"middle\" x=\"14\" y=\"-42.8\" font-family=\"Times,serif\" font-size=\"14.00\">a</text>\n",
       "<polyline fill=\"none\" stroke=\"black\" points=\"25.5,-28.5 25.5,-64.5\"/>\n",
       "<text text-anchor=\"middle\" x=\"65.5\" y=\"-42.8\" font-family=\"Times,serif\" font-size=\"14.00\">data 2.0000</text>\n",
       "<polyline fill=\"none\" stroke=\"black\" points=\"105.5,-28.5 105.5,-64.5\"/>\n",
       "<text text-anchor=\"middle\" x=\"148.5\" y=\"-42.8\" font-family=\"Times,serif\" font-size=\"14.00\">grad: 0.0000</text>\n",
       "</g>\n",
       "<!-- 4683589520&#45;&gt;4681133408* -->\n",
       "<g id=\"edge5\" class=\"edge\">\n",
       "<title>4683589520&#45;&gt;4681133408*</title>\n",
       "<path fill=\"none\" stroke=\"black\" d=\"M191.74,-62.52C201.85,-64.25 211.62,-65.92 220.37,-67.41\"/>\n",
       "<polygon fill=\"black\" stroke=\"black\" points=\"220.04,-70.9 230.48,-69.14 221.22,-64 220.04,-70.9\"/>\n",
       "</g>\n",
       "<!-- 4658978240 -->\n",
       "<g id=\"node10\" class=\"node\">\n",
       "<title>4658978240</title>\n",
       "<polygon fill=\"none\" stroke=\"black\" points=\"320,-0.5 320,-36.5 516,-36.5 516,-0.5 320,-0.5\"/>\n",
       "<text text-anchor=\"middle\" x=\"331.5\" y=\"-14.8\" font-family=\"Times,serif\" font-size=\"14.00\">c</text>\n",
       "<polyline fill=\"none\" stroke=\"black\" points=\"343,-0.5 343,-36.5\"/>\n",
       "<text text-anchor=\"middle\" x=\"386.5\" y=\"-14.8\" font-family=\"Times,serif\" font-size=\"14.00\">data 10.0000</text>\n",
       "<polyline fill=\"none\" stroke=\"black\" points=\"430,-0.5 430,-36.5\"/>\n",
       "<text text-anchor=\"middle\" x=\"473\" y=\"-14.8\" font-family=\"Times,serif\" font-size=\"14.00\">grad: 4.0000</text>\n",
       "</g>\n",
       "<!-- 4658978240&#45;&gt;4683465872+ -->\n",
       "<g id=\"edge8\" class=\"edge\">\n",
       "<title>4658978240&#45;&gt;4683465872+</title>\n",
       "<path fill=\"none\" stroke=\"black\" d=\"M516.07,-34.98C525.42,-36.57 534.43,-38.1 542.55,-39.48\"/>\n",
       "<polygon fill=\"black\" stroke=\"black\" points=\"542.21,-42.97 552.65,-41.2 543.38,-36.07 542.21,-42.97\"/>\n",
       "</g>\n",
       "</g>\n",
       "</svg>\n"
      ],
      "text/plain": [
       "<graphviz.graphs.Digraph at 0x11729ed30>"
      ]
     },
     "execution_count": 143,
     "metadata": {},
     "output_type": "execute_result"
    }
   ],
   "source": [
    "draw_dot(L)"
   ]
  },
  {
   "cell_type": "markdown",
   "id": "f125b8ca",
   "metadata": {},
   "source": [
    "Back propagation by hand\n",
    "\n",
    "One important point to have in mind here is:\n",
    "\n",
    "$$\n",
    "L(f, d) = f\\cdot d\n",
    "$$\n",
    "\n",
    "with $d = d(c, e)$ or with $e = e(a, b)$ therefore $d = d(c, e(a, b))$. If we expand the derivative we have:\n",
    "\n",
    "$$\n",
    "\\frac{\\partial L}{\\partial f} = \\frac{\\partial (f\\cdot d)}{\\partial f} = \\frac{\\partial f}{\\partial f} d + \\frac{\\partial d}{\\partial f} f = d + 0 = d.\n",
    "$$\n",
    "\n",
    "and \n",
    "\n",
    "$$\n",
    "\\frac{\\partial L}{\\partial d} = \\frac{\\partial (f\\cdot d)}{\\partial d} = \\frac{\\partial f}{\\partial d} d + \\frac{\\partial d}{\\partial d} f = 0 + f = f.\n",
    "$$\n",
    "\n",
    "Note that, if $d = f + c$ instead of $d = e + c$ then we would have:\n",
    "$$\n",
    "\\frac{\\partial L}{\\partial f} = \\frac{\\partial (f\\cdot d)}{\\partial f} = \\frac{\\partial f}{\\partial f} d + \\frac{\\partial d}{\\partial f} f = \\frac{\\partial f}{\\partial f} d + \\frac{\\partial (f + c)}{\\partial f} f = d + f.\n",
    "$$\n",
    "\n",
    "Another important point to have in mind, regarding notation, is the following. although it is written `d.grad`, in fact this means the derivative of `L` with respect to `d` and not the gradient of `d`. In more general terms, `d.grad` is the derivative of the root expression (highest level) with respect to the variable we are considering."
   ]
  },
  {
   "cell_type": "code",
   "execution_count": 144,
   "id": "b41f2510",
   "metadata": {},
   "outputs": [],
   "source": [
    "# L = d * f\n",
    "# d = e + c\n",
    "# e = b * a\n",
    "\n",
    "# So for the different layers (levels) of the expression we have:\n",
    "# L = d * f            (first level)\n",
    "# L = (e + c) * f      (second level)\n",
    "# L = ((b*a) + c) * f  (third level)\n",
    "L.grad = 1.0 # initialize it to it value, since dL/dL = 1\n",
    "d.grad = f.data  #  L = d*f => dL/dd = f\n",
    "f.grad = d.data  #  L = d*f => dL/df = d"
   ]
  },
  {
   "cell_type": "markdown",
   "id": "f4aeb088",
   "metadata": {},
   "source": [
    "So now to compute $\\frac{\\partial L}{\\partial c}$ we need to use the chain rule to get:\n",
    "\n",
    "$$\n",
    "\\frac{\\partial L}{\\partial c} = \\frac{\\partial L(d, f)}{\\partial c} = \\frac{\\partial L(d, f)}{\\partial d}\\frac{\\partial d}{\\partial c} + \\frac{\\partial L(d, f)}{\\partial f}\\frac{\\partial f}{\\partial c} = \\frac{\\partial L(d, f)}{\\partial d}\\frac{\\partial (e + c)}{\\partial c} + 0 = \\frac{\\partial L(d, f)}{\\partial d}\\cdot 1 = \\frac{\\partial L(d, f)}{\\partial d}.\n",
    "$$\n",
    "\n",
    "We can see that we reused $\\frac{\\partial L(d, f)}{\\partial d}$ and $\\frac{\\partial L(d, f)}{\\partial f}$ that was computed in the previous step.\n",
    "\n",
    "This expression clearly shows that at each point of the graph we just need to have the derivative of the upstream expression with respect to the parent and the derivative of the parent with respect to the child. Combining the two we can easily get the derivative of the root expression with respect to the node."
   ]
  },
  {
   "cell_type": "code",
   "execution_count": 142,
   "id": "ab2f4740",
   "metadata": {},
   "outputs": [],
   "source": [
    "c.grad = f.data * d.grad  # this is just the expression from the chain rule\n",
    "e.grad = f.data * d.grad  # this is just the expression from the chain rule"
   ]
  },
  {
   "cell_type": "code",
   "execution_count": 141,
   "id": "923ca6ba",
   "metadata": {},
   "outputs": [
    {
     "name": "stdout",
     "output_type": "stream",
     "text": [
      "Derivative: -1.9999999999953388\n"
     ]
    }
   ],
   "source": [
    "def lol():\n",
    "    h = 0.0001\n",
    "    \n",
    "    a = Value(2.0, label='a')\n",
    "    b = Value(-3.0, label='b')\n",
    "    c = Value(10.0, label='c')\n",
    "    e = a*b; e.label = 'e'\n",
    "    d = e + c; d.label='d'\n",
    "    f = Value(-2.0, label='f')\n",
    "    L = d*f; L.label ='L'\n",
    "    L1 = L.data\n",
    "    \n",
    "    a = Value(2.0, label='a')\n",
    "    b = Value(-3.0, label='b')\n",
    "    c = Value(10.0 + h, label='c')\n",
    "    e = a*b; e.label = 'e'\n",
    "    d = e + c; d.label='d'\n",
    "    d.data = d.data\n",
    "    f = Value(-2.0, label='f')\n",
    "    L = d*f; L.label ='L'\n",
    "    \n",
    "    L2 = L.data\n",
    "    \n",
    "    print('Derivative:', (L2 - L1)/h)\n",
    "    \n",
    "lol()\n",
    "    \n",
    "    "
   ]
  },
  {
   "cell_type": "code",
   "execution_count": null,
   "id": "8df3b1ca",
   "metadata": {},
   "outputs": [],
   "source": []
  }
 ],
 "metadata": {
  "kernelspec": {
   "display_name": "Python 3 (ipykernel)",
   "language": "python",
   "name": "python3"
  },
  "language_info": {
   "codemirror_mode": {
    "name": "ipython",
    "version": 3
   },
   "file_extension": ".py",
   "mimetype": "text/x-python",
   "name": "python",
   "nbconvert_exporter": "python",
   "pygments_lexer": "ipython3",
   "version": "3.9.13"
  }
 },
 "nbformat": 4,
 "nbformat_minor": 5
}
