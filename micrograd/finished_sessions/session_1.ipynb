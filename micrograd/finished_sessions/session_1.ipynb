{
 "cells": [
  {
   "cell_type": "markdown",
   "id": "91252726",
   "metadata": {},
   "source": [
    "# Micrograd: Tutorial on automatic differentiation using backpropagation\n",
    "## by Andrej Karpathy"
   ]
  },
  {
   "cell_type": "markdown",
   "id": "bf0b8ce3",
   "metadata": {},
   "source": [
    "This notebook has all the code we covered in the first session, up to and including the first example manually doing backpropagation.\n",
    "\n",
    "It also still has the code blocks that are copy-pasted in the rest of the video."
   ]
  },
  {
   "cell_type": "markdown",
   "id": "e612321c",
   "metadata": {},
   "source": [
    "[video link](https://www.youtube.com/watch?v=VMj-3S1tku0)"
   ]
  },
  {
   "cell_type": "markdown",
   "id": "4c887d78",
   "metadata": {},
   "source": [
    "# Preliminary exploration"
   ]
  },
  {
   "cell_type": "markdown",
   "id": "698edc79",
   "metadata": {},
   "source": [
    "## Required modules"
   ]
  },
  {
   "cell_type": "markdown",
   "id": "26d55639",
   "metadata": {},
   "source": [
    "Dependencies for math operations and plotting"
   ]
  },
  {
   "cell_type": "code",
   "execution_count": 1,
   "id": "94913a7a",
   "metadata": {},
   "outputs": [],
   "source": [
    "import math\n",
    "import numpy as np\n",
    "import matplotlib.pyplot as plt\n",
    "%matplotlib inline"
   ]
  },
  {
   "cell_type": "markdown",
   "id": "ced98b66",
   "metadata": {},
   "source": [
    "## Functions of a single variable"
   ]
  },
  {
   "cell_type": "code",
   "execution_count": 2,
   "id": "29156dfc",
   "metadata": {},
   "outputs": [],
   "source": [
    "def f(x):\n",
    "    return 3.0*x**2 - 4.0*x + 5.0"
   ]
  },
  {
   "cell_type": "code",
   "execution_count": 3,
   "id": "1fec02b0",
   "metadata": {
    "scrolled": true
   },
   "outputs": [
    {
     "data": {
      "text/plain": [
       "20.0"
      ]
     },
     "execution_count": 3,
     "metadata": {},
     "output_type": "execute_result"
    }
   ],
   "source": [
    "f(3.0)"
   ]
  },
  {
   "cell_type": "code",
   "execution_count": 4,
   "id": "28bd26ec",
   "metadata": {
    "scrolled": true
   },
   "outputs": [
    {
     "data": {
      "text/plain": [
       "[<matplotlib.lines.Line2D at 0x124985cf0>]"
      ]
     },
     "execution_count": 4,
     "metadata": {},
     "output_type": "execute_result"
    },
    {
     "data": {
      "image/png": "[encoded data removed]",
      "text/plain": [
       "<Figure size 640x480 with 1 Axes>"
      ]
     },
     "metadata": {},
     "output_type": "display_data"
    }
   ],
   "source": [
    "xs = np.arange(-5, 5, 0.25)\n",
    "ys = f(xs)\n",
    "plt.plot(xs, ys)"
   ]
  },
  {
   "cell_type": "markdown",
   "id": "78d66d49",
   "metadata": {},
   "source": [
    "### Numerical derivative"
   ]
  },
  {
   "cell_type": "code",
   "execution_count": 5,
   "id": "be635458",
   "metadata": {
    "scrolled": true
   },
   "outputs": [
    {
     "data": {
      "text/plain": [
       "14.00300000000243"
      ]
     },
     "execution_count": 5,
     "metadata": {},
     "output_type": "execute_result"
    }
   ],
   "source": [
    "h = 0.001\n",
    "x = 3.0\n",
    "(f(x + h) - f(x))/h  # fill in"
   ]
  },
  {
   "cell_type": "markdown",
   "id": "6e1c1128",
   "metadata": {},
   "source": [
    "## Functions of multiple variables"
   ]
  },
  {
   "cell_type": "code",
   "execution_count": 6,
   "id": "3670279d",
   "metadata": {},
   "outputs": [
    {
     "name": "stdout",
     "output_type": "stream",
     "text": [
      "4.0\n"
     ]
    }
   ],
   "source": [
    "# Let's get more complex\n",
    "\n",
    "# Inputs\n",
    "a = 2.0\n",
    "b = -3.0\n",
    "c = 10.0\n",
    "\n",
    "# Function\n",
    "d = lambda a,b,c: a*b + c\n",
    "print(d(a, b, c))"
   ]
  },
  {
   "cell_type": "markdown",
   "id": "aa1541fc",
   "metadata": {},
   "source": [
    "### Numerical derivative"
   ]
  },
  {
   "cell_type": "markdown",
   "id": "df19f221",
   "metadata": {},
   "source": [
    "Similar implementation to the video, but using a function to define `d` to make it a bit cleaner."
   ]
  },
  {
   "cell_type": "code",
   "execution_count": 7,
   "id": "75640650",
   "metadata": {},
   "outputs": [
    {
     "name": "stdout",
     "output_type": "stream",
     "text": [
      "Variation in a:\n",
      "   d1 4.0\n",
      "   d2 3.999699999999999\n",
      "   slope -3.000000000010772\n",
      "\n",
      "Variation in b:\n",
      "   d1 4.0\n",
      "   d2 4.0002\n",
      "   slope 2.0000000000042206\n",
      "\n",
      "Variation in c:\n",
      "   d1 4.0\n",
      "   d2 4.0001\n",
      "   slope 0.9999999999976694\n"
     ]
    }
   ],
   "source": [
    "h = 0.0001\n",
    "\n",
    "# Inputs\n",
    "a = 2.0\n",
    "b = -3.0\n",
    "c = 10.0\n",
    "\n",
    "\n",
    "# Function with variations\n",
    "\n",
    "# Variation in a\n",
    "d1 = d(a, b, c)\n",
    "d2 = d(a+h, b, c)\n",
    "print('Variation in a:')\n",
    "print('   d1', d1)\n",
    "print('   d2', d2)\n",
    "print('   slope', (d2 - d1)/h)  # the derivative\n",
    "\n",
    "# Variation in b\n",
    "d1 = d(a, b, c)\n",
    "d2 = d(a, b+h, c)\n",
    "print('\\nVariation in b:')\n",
    "print('   d1', d1)\n",
    "print('   d2', d2)\n",
    "print('   slope', (d2 - d1)/h)  # the derivative\n",
    "\n",
    "# Variation in c\n",
    "d1 = d(a, b, c)\n",
    "d2 = d(a, b, c+h)\n",
    "print('\\nVariation in c:')\n",
    "print('   d1', d1)\n",
    "print('   d2', d2)\n",
    "print('   slope', (d2 - d1)/h)  # the derivative"
   ]
  },
  {
   "cell_type": "markdown",
   "id": "16e10640",
   "metadata": {},
   "source": [
    "# Micrograd"
   ]
  },
  {
   "cell_type": "markdown",
   "id": "08aa3c62",
   "metadata": {},
   "source": [
    "## Value class"
   ]
  },
  {
   "cell_type": "code",
   "execution_count": 8,
   "id": "8540ce35",
   "metadata": {},
   "outputs": [],
   "source": [
    "class Value:\n",
    "    \n",
    "    def __init__(self, data, _children=(), _op='', label=''):\n",
    "        self.data = data\n",
    "        self.grad = 0.0\n",
    "        self._prev = set(_children)\n",
    "        self._op = _op\n",
    "        self.label = label\n",
    "        \n",
    "    def __repr__(self):\n",
    "        # Print a nice output\n",
    "        return f\"Value(data={self.data})\"\n",
    "    \n",
    "    def __add__(self, other):\n",
    "        # Addition operator\n",
    "        out = Value(self.data + other.data, (self, other), '+')\n",
    "\n",
    "        return out\n",
    "        \n",
    "    def __mul__(self, other):\n",
    "        # Multiplication operator\n",
    "        out = Value(self.data * other.data, (self, other), '*')\n",
    "        \n",
    "        return out\n",
    "    \n",
    "#     def tanh(self):\n",
    "#         # Hyperbolic tangent function\n",
    "#         x = self.data\n",
    "#         t = (math.exp(2.0*x) - 1.0)/(math.exp(2.0*x) + 1)\n",
    "#         out = Value(t, (self, ), 'tanh')\n",
    "        \n",
    "#         return out"
   ]
  },
  {
   "cell_type": "code",
   "execution_count": 9,
   "id": "ceca5e95",
   "metadata": {},
   "outputs": [
    {
     "name": "stdout",
     "output_type": "stream",
     "text": [
      "The values a, b,c:\n",
      "Value(data=2.0)\n",
      "Value(data=-3.0)\n",
      "Value(data=10.0)\n",
      "\n",
      "The value of d:\n",
      "Value(data=4.0)\n",
      "\n",
      "The value of L:\n",
      "Value(data=-8.0)\n"
     ]
    }
   ],
   "source": [
    "# Define three values\n",
    "a = Value(2.0, label='a')\n",
    "b = Value(-3.0, label='b')\n",
    "c = Value(10.0, label='c')\n",
    "print('The values a, b,c:')\n",
    "print(a)\n",
    "print(b)\n",
    "print(c)\n",
    "\n",
    "# Do some operations with them and print the result\n",
    "e = a*b; e.label = 'e'\n",
    "d = e + c; d.label = 'd'\n",
    "f = Value(-2.0, label='f')\n",
    "L = d*f\n",
    "\n",
    "print('\\nThe value of d:')\n",
    "print(d)\n",
    "print('\\nThe value of L:')\n",
    "print(L)"
   ]
  },
  {
   "cell_type": "code",
   "execution_count": null,
   "id": "91189fe9",
   "metadata": {},
   "outputs": [],
   "source": [
    "def lol():\n",
    "    \"\"\"Helper function to check computed gradients numerically\"\"\"\n",
    "    h = 0.0001  # small change in a variable\n",
    "    \n",
    "    \n",
    "    # compute L without the change\n",
    "    a = Value(2.0, label='a')\n",
    "    b = Value(-3.0, label='b')\n",
    "    c = Value(10.0, label='c')\n",
    "    e = a*b; e.label = 'e'\n",
    "    d = e + c; d.label = 'd'\n",
    "    f = Value(-2.0, label='f')\n",
    "    L = d*f; L.label = 'L'\n",
    "    L1 = L.data\n",
    "    \n",
    "    # compute L with the small change in one variable, in this case c\n",
    "    a = Value(2.0, label='a')\n",
    "    b = Value(-3.0, label='b')\n",
    "    c = Value(10.0 + h, label='c')\n",
    "    e = a*b; e.label = 'e'\n",
    "    d = e + c; d.label = 'd'\n",
    "    d.data = d.data\n",
    "    f = Value(-2.0, label='f')\n",
    "    L = d*f; L.label = 'L'\n",
    "    L2 = L.data\n",
    "    \n",
    "    print('Derivative:', (L2 - L1)/h)\n",
    "    \n",
    "lol()"
   ]
  },
  {
   "cell_type": "markdown",
   "id": "ed2f1d99",
   "metadata": {},
   "source": [
    "## Visualization code (at time 25:07)"
   ]
  },
  {
   "cell_type": "markdown",
   "id": "f28e9468",
   "metadata": {},
   "source": [
    "Copy pasted code so with visualization functions"
   ]
  },
  {
   "cell_type": "code",
   "execution_count": 10,
   "id": "ec964b67",
   "metadata": {},
   "outputs": [],
   "source": [
    "from graphviz import Digraph\n",
    "\n",
    "def trace(root):\n",
    "    # builds a set of all nodes and edges in a graph\n",
    "    nodes, edges = set(), set()\n",
    "    def build(v):\n",
    "        if v not in nodes:\n",
    "            nodes.add(v)\n",
    "            for child in v._prev:\n",
    "                edges.add((child, v))\n",
    "                build(child)\n",
    "    build(root)\n",
    "    return nodes, edges\n",
    "\n",
    "def draw_dot(root):\n",
    "    dot = Digraph(format='svg', graph_attr={'rankdir': 'LR'})  # LR = left to right\n",
    "    \n",
    "    nodes, edges = trace(root)\n",
    "    for n in nodes:\n",
    "        uid = str(id(n))\n",
    "        # for any value in the graph, create a rectangular ('record') node for it\n",
    "        dot.node(name = uid, label = \"{ %s | data %.4f | grad: %.4f}\" % (n.label, n.data, n.grad), shape='record')\n",
    "        if n._op:\n",
    "            # if this value is a result of some operation, create an op node for it\n",
    "            dot.node(name = uid + n._op, label = n._op)\n",
    "            # and connect this node to it\n",
    "            dot.edge(uid + n._op, uid)\n",
    "            \n",
    "    for n1, n2 in edges:\n",
    "        # connect n1 to the op node of n2\n",
    "        dot.edge(str(id(n1)), str(id(n2)) + n2._op)\n",
    "            \n",
    "    return dot"
   ]
  },
  {
   "cell_type": "markdown",
   "id": "92ff66c9",
   "metadata": {},
   "source": [
    "You can now visualize the ``Value`` objects"
   ]
  },
  {
   "cell_type": "code",
   "execution_count": 11,
   "id": "8b6bb56c",
   "metadata": {},
   "outputs": [
    {
     "data": {
      "image/svg+xml": [
       "<?xml version=\"1.0\" encoding=\"UTF-8\" standalone=\"no\"?>\n",
       "<!DOCTYPE svg PUBLIC \"-//W3C//DTD SVG 1.1//EN\"\n",
       " \"http://www.w3.org/Graphics/SVG/1.1/DTD/svg11.dtd\">\n",
       "<!-- Generated by graphviz version 6.0.1 (0)\n",
       " -->\n",
       "<!-- Pages: 1 -->\n",
       "<svg width=\"839pt\" height=\"127pt\"\n",
       " viewBox=\"0.00 0.00 839.00 127.00\" xmlns=\"http://www.w3.org/2000/svg\" xmlns:xlink=\"http://www.w3.org/1999/xlink\">\n",
       "<g id=\"graph0\" class=\"graph\" transform=\"scale(1 1) rotate(0) translate(4 123)\">\n",
       "<polygon fill=\"white\" stroke=\"none\" points=\"-4,4 -4,-123 835,-123 835,4 -4,4\"/>\n",
       "<!-- 4909767392 -->\n",
       "<g id=\"node1\" class=\"node\">\n",
       "<title>4909767392</title>\n",
       "<polygon fill=\"none\" stroke=\"black\" points=\"321,-27.5 321,-63.5 515,-63.5 515,-27.5 321,-27.5\"/>\n",
       "<text text-anchor=\"middle\" x=\"332.5\" y=\"-41.8\" font-family=\"Times,serif\" font-size=\"14.00\">e</text>\n",
       "<polyline fill=\"none\" stroke=\"black\" points=\"344,-27.5 344,-63.5\"/>\n",
       "<text text-anchor=\"middle\" x=\"386.5\" y=\"-41.8\" font-family=\"Times,serif\" font-size=\"14.00\">data &#45;6.0000</text>\n",
       "<polyline fill=\"none\" stroke=\"black\" points=\"429,-27.5 429,-63.5\"/>\n",
       "<text text-anchor=\"middle\" x=\"472\" y=\"-41.8\" font-family=\"Times,serif\" font-size=\"14.00\">grad: 0.0000</text>\n",
       "</g>\n",
       "<!-- 4909772672+ -->\n",
       "<g id=\"node6\" class=\"node\">\n",
       "<title>4909772672+</title>\n",
       "<ellipse fill=\"none\" stroke=\"black\" cx=\"579\" cy=\"-72.5\" rx=\"27\" ry=\"18\"/>\n",
       "<text text-anchor=\"middle\" x=\"579\" y=\"-68.8\" font-family=\"Times,serif\" font-size=\"14.00\">+</text>\n",
       "</g>\n",
       "<!-- 4909767392&#45;&gt;4909772672+ -->\n",
       "<g id=\"edge5\" class=\"edge\">\n",
       "<title>4909767392&#45;&gt;4909772672+</title>\n",
       "<path fill=\"none\" stroke=\"black\" d=\"M515.16,-61.83C524.82,-63.47 534.13,-65.05 542.49,-66.47\"/>\n",
       "<polygon fill=\"black\" stroke=\"black\" points=\"542.09,-69.95 552.54,-68.18 543.26,-63.05 542.09,-69.95\"/>\n",
       "</g>\n",
       "<!-- 4909767392* -->\n",
       "<g id=\"node2\" class=\"node\">\n",
       "<title>4909767392*</title>\n",
       "<ellipse fill=\"none\" stroke=\"black\" cx=\"257\" cy=\"-45.5\" rx=\"27\" ry=\"18\"/>\n",
       "<text text-anchor=\"middle\" x=\"257\" y=\"-41.8\" font-family=\"Times,serif\" font-size=\"14.00\">*</text>\n",
       "</g>\n",
       "<!-- 4909767392*&#45;&gt;4909767392 -->\n",
       "<g id=\"edge1\" class=\"edge\">\n",
       "<title>4909767392*&#45;&gt;4909767392</title>\n",
       "<path fill=\"none\" stroke=\"black\" d=\"M284.26,-45.5C292.05,-45.5 301.1,-45.5 310.75,-45.5\"/>\n",
       "<polygon fill=\"black\" stroke=\"black\" points=\"310.99,-49 320.99,-45.5 310.99,-42 310.99,-49\"/>\n",
       "</g>\n",
       "<!-- 4908550464 -->\n",
       "<g id=\"node3\" class=\"node\">\n",
       "<title>4908550464</title>\n",
       "<polygon fill=\"none\" stroke=\"black\" points=\"0,-55.5 0,-91.5 194,-91.5 194,-55.5 0,-55.5\"/>\n",
       "<text text-anchor=\"middle\" x=\"11.5\" y=\"-69.8\" font-family=\"Times,serif\" font-size=\"14.00\">b</text>\n",
       "<polyline fill=\"none\" stroke=\"black\" points=\"23,-55.5 23,-91.5\"/>\n",
       "<text text-anchor=\"middle\" x=\"65.5\" y=\"-69.8\" font-family=\"Times,serif\" font-size=\"14.00\">data &#45;3.0000</text>\n",
       "<polyline fill=\"none\" stroke=\"black\" points=\"108,-55.5 108,-91.5\"/>\n",
       "<text text-anchor=\"middle\" x=\"151\" y=\"-69.8\" font-family=\"Times,serif\" font-size=\"14.00\">grad: 0.0000</text>\n",
       "</g>\n",
       "<!-- 4908550464&#45;&gt;4909767392* -->\n",
       "<g id=\"edge3\" class=\"edge\">\n",
       "<title>4908550464&#45;&gt;4909767392*</title>\n",
       "<path fill=\"none\" stroke=\"black\" d=\"M194.01,-56.49C203.35,-54.83 212.37,-53.23 220.49,-51.79\"/>\n",
       "<polygon fill=\"black\" stroke=\"black\" points=\"221.37,-55.19 230.6,-50 220.15,-48.3 221.37,-55.19\"/>\n",
       "</g>\n",
       "<!-- 4854149472 -->\n",
       "<g id=\"node4\" class=\"node\">\n",
       "<title>4854149472</title>\n",
       "<polygon fill=\"none\" stroke=\"black\" points=\"2.5,-0.5 2.5,-36.5 191.5,-36.5 191.5,-0.5 2.5,-0.5\"/>\n",
       "<text text-anchor=\"middle\" x=\"14\" y=\"-14.8\" font-family=\"Times,serif\" font-size=\"14.00\">a</text>\n",
       "<polyline fill=\"none\" stroke=\"black\" points=\"25.5,-0.5 25.5,-36.5\"/>\n",
       "<text text-anchor=\"middle\" x=\"65.5\" y=\"-14.8\" font-family=\"Times,serif\" font-size=\"14.00\">data 2.0000</text>\n",
       "<polyline fill=\"none\" stroke=\"black\" points=\"105.5,-0.5 105.5,-36.5\"/>\n",
       "<text text-anchor=\"middle\" x=\"148.5\" y=\"-14.8\" font-family=\"Times,serif\" font-size=\"14.00\">grad: 0.0000</text>\n",
       "</g>\n",
       "<!-- 4854149472&#45;&gt;4909767392* -->\n",
       "<g id=\"edge6\" class=\"edge\">\n",
       "<title>4854149472&#45;&gt;4909767392*</title>\n",
       "<path fill=\"none\" stroke=\"black\" d=\"M191.74,-34.52C201.85,-36.25 211.62,-37.92 220.37,-39.41\"/>\n",
       "<polygon fill=\"black\" stroke=\"black\" points=\"220.04,-42.9 230.48,-41.14 221.22,-36 220.04,-42.9\"/>\n",
       "</g>\n",
       "<!-- 4909772672 -->\n",
       "<g id=\"node5\" class=\"node\">\n",
       "<title>4909772672</title>\n",
       "<polygon fill=\"none\" stroke=\"black\" points=\"642,-54.5 642,-90.5 831,-90.5 831,-54.5 642,-54.5\"/>\n",
       "<text text-anchor=\"middle\" x=\"653.5\" y=\"-68.8\" font-family=\"Times,serif\" font-size=\"14.00\">d</text>\n",
       "<polyline fill=\"none\" stroke=\"black\" points=\"665,-54.5 665,-90.5\"/>\n",
       "<text text-anchor=\"middle\" x=\"705\" y=\"-68.8\" font-family=\"Times,serif\" font-size=\"14.00\">data 4.0000</text>\n",
       "<polyline fill=\"none\" stroke=\"black\" points=\"745,-54.5 745,-90.5\"/>\n",
       "<text text-anchor=\"middle\" x=\"788\" y=\"-68.8\" font-family=\"Times,serif\" font-size=\"14.00\">grad: 0.0000</text>\n",
       "</g>\n",
       "<!-- 4909772672+&#45;&gt;4909772672 -->\n",
       "<g id=\"edge2\" class=\"edge\">\n",
       "<title>4909772672+&#45;&gt;4909772672</title>\n",
       "<path fill=\"none\" stroke=\"black\" d=\"M606.03,-72.5C613.66,-72.5 622.52,-72.5 631.94,-72.5\"/>\n",
       "<polygon fill=\"black\" stroke=\"black\" points=\"631.94,-76 641.94,-72.5 631.94,-69 631.94,-76\"/>\n",
       "</g>\n",
       "<!-- 4908552144 -->\n",
       "<g id=\"node7\" class=\"node\">\n",
       "<title>4908552144</title>\n",
       "<polygon fill=\"none\" stroke=\"black\" points=\"320,-82.5 320,-118.5 516,-118.5 516,-82.5 320,-82.5\"/>\n",
       "<text text-anchor=\"middle\" x=\"331.5\" y=\"-96.8\" font-family=\"Times,serif\" font-size=\"14.00\">c</text>\n",
       "<polyline fill=\"none\" stroke=\"black\" points=\"343,-82.5 343,-118.5\"/>\n",
       "<text text-anchor=\"middle\" x=\"386.5\" y=\"-96.8\" font-family=\"Times,serif\" font-size=\"14.00\">data 10.0000</text>\n",
       "<polyline fill=\"none\" stroke=\"black\" points=\"430,-82.5 430,-118.5\"/>\n",
       "<text text-anchor=\"middle\" x=\"473\" y=\"-96.8\" font-family=\"Times,serif\" font-size=\"14.00\">grad: 0.0000</text>\n",
       "</g>\n",
       "<!-- 4908552144&#45;&gt;4909772672+ -->\n",
       "<g id=\"edge4\" class=\"edge\">\n",
       "<title>4908552144&#45;&gt;4909772672+</title>\n",
       "<path fill=\"none\" stroke=\"black\" d=\"M516.07,-83.41C525.42,-81.76 534.43,-80.17 542.55,-78.74\"/>\n",
       "<polygon fill=\"black\" stroke=\"black\" points=\"543.41,-82.15 552.65,-76.96 542.2,-75.25 543.41,-82.15\"/>\n",
       "</g>\n",
       "</g>\n",
       "</svg>\n"
      ],
      "text/plain": [
       "<graphviz.graphs.Digraph at 0x124a539a0>"
      ]
     },
     "execution_count": 11,
     "metadata": {},
     "output_type": "execute_result"
    }
   ],
   "source": [
    "draw_dot(d)"
   ]
  },
  {
   "cell_type": "code",
   "execution_count": 12,
   "id": "9b09593f",
   "metadata": {},
   "outputs": [
    {
     "data": {
      "image/svg+xml": [
       "<?xml version=\"1.0\" encoding=\"UTF-8\" standalone=\"no\"?>\n",
       "<!DOCTYPE svg PUBLIC \"-//W3C//DTD SVG 1.1//EN\"\n",
       " \"http://www.w3.org/Graphics/SVG/1.1/DTD/svg11.dtd\">\n",
       "<!-- Generated by graphviz version 6.0.1 (0)\n",
       " -->\n",
       "<!-- Pages: 1 -->\n",
       "<svg width=\"1159pt\" height=\"128pt\"\n",
       " viewBox=\"0.00 0.00 1159.00 128.00\" xmlns=\"http://www.w3.org/2000/svg\" xmlns:xlink=\"http://www.w3.org/1999/xlink\">\n",
       "<g id=\"graph0\" class=\"graph\" transform=\"scale(1 1) rotate(0) translate(4 124)\">\n",
       "<polygon fill=\"white\" stroke=\"none\" points=\"-4,4 -4,-124 1155,-124 1155,4 -4,4\"/>\n",
       "<!-- 4909763120 -->\n",
       "<g id=\"node1\" class=\"node\">\n",
       "<title>4909763120</title>\n",
       "<polygon fill=\"none\" stroke=\"black\" points=\"642,-82.5 642,-118.5 834,-118.5 834,-82.5 642,-82.5\"/>\n",
       "<text text-anchor=\"middle\" x=\"652.5\" y=\"-96.8\" font-family=\"Times,serif\" font-size=\"14.00\">f</text>\n",
       "<polyline fill=\"none\" stroke=\"black\" points=\"663,-82.5 663,-118.5\"/>\n",
       "<text text-anchor=\"middle\" x=\"705.5\" y=\"-96.8\" font-family=\"Times,serif\" font-size=\"14.00\">data &#45;2.0000</text>\n",
       "<polyline fill=\"none\" stroke=\"black\" points=\"748,-82.5 748,-118.5\"/>\n",
       "<text text-anchor=\"middle\" x=\"791\" y=\"-96.8\" font-family=\"Times,serif\" font-size=\"14.00\">grad: 0.0000</text>\n",
       "</g>\n",
       "<!-- 4909772576* -->\n",
       "<g id=\"node5\" class=\"node\">\n",
       "<title>4909772576*</title>\n",
       "<ellipse fill=\"none\" stroke=\"black\" cx=\"897\" cy=\"-72.5\" rx=\"27\" ry=\"18\"/>\n",
       "<text text-anchor=\"middle\" x=\"897\" y=\"-68.8\" font-family=\"Times,serif\" font-size=\"14.00\">*</text>\n",
       "</g>\n",
       "<!-- 4909763120&#45;&gt;4909772576* -->\n",
       "<g id=\"edge6\" class=\"edge\">\n",
       "<title>4909763120&#45;&gt;4909772576*</title>\n",
       "<path fill=\"none\" stroke=\"black\" d=\"M834.4,-83.49C843.69,-81.83 852.64,-80.23 860.71,-78.79\"/>\n",
       "<polygon fill=\"black\" stroke=\"black\" points=\"861.53,-82.2 870.76,-77 860.31,-75.31 861.53,-82.2\"/>\n",
       "</g>\n",
       "<!-- 4909767392 -->\n",
       "<g id=\"node2\" class=\"node\">\n",
       "<title>4909767392</title>\n",
       "<polygon fill=\"none\" stroke=\"black\" points=\"321,-55.5 321,-91.5 515,-91.5 515,-55.5 321,-55.5\"/>\n",
       "<text text-anchor=\"middle\" x=\"332.5\" y=\"-69.8\" font-family=\"Times,serif\" font-size=\"14.00\">e</text>\n",
       "<polyline fill=\"none\" stroke=\"black\" points=\"344,-55.5 344,-91.5\"/>\n",
       "<text text-anchor=\"middle\" x=\"386.5\" y=\"-69.8\" font-family=\"Times,serif\" font-size=\"14.00\">data &#45;6.0000</text>\n",
       "<polyline fill=\"none\" stroke=\"black\" points=\"429,-55.5 429,-91.5\"/>\n",
       "<text text-anchor=\"middle\" x=\"472\" y=\"-69.8\" font-family=\"Times,serif\" font-size=\"14.00\">grad: 0.0000</text>\n",
       "</g>\n",
       "<!-- 4909772672+ -->\n",
       "<g id=\"node9\" class=\"node\">\n",
       "<title>4909772672+</title>\n",
       "<ellipse fill=\"none\" stroke=\"black\" cx=\"579\" cy=\"-45.5\" rx=\"27\" ry=\"18\"/>\n",
       "<text text-anchor=\"middle\" x=\"579\" y=\"-41.8\" font-family=\"Times,serif\" font-size=\"14.00\">+</text>\n",
       "</g>\n",
       "<!-- 4909767392&#45;&gt;4909772672+ -->\n",
       "<g id=\"edge9\" class=\"edge\">\n",
       "<title>4909767392&#45;&gt;4909772672+</title>\n",
       "<path fill=\"none\" stroke=\"black\" d=\"M515.16,-56.57C524.82,-54.87 534.13,-53.23 542.49,-51.75\"/>\n",
       "<polygon fill=\"black\" stroke=\"black\" points=\"543.3,-55.17 552.54,-49.98 542.08,-48.27 543.3,-55.17\"/>\n",
       "</g>\n",
       "<!-- 4909767392* -->\n",
       "<g id=\"node3\" class=\"node\">\n",
       "<title>4909767392*</title>\n",
       "<ellipse fill=\"none\" stroke=\"black\" cx=\"257\" cy=\"-73.5\" rx=\"27\" ry=\"18\"/>\n",
       "<text text-anchor=\"middle\" x=\"257\" y=\"-69.8\" font-family=\"Times,serif\" font-size=\"14.00\">*</text>\n",
       "</g>\n",
       "<!-- 4909767392*&#45;&gt;4909767392 -->\n",
       "<g id=\"edge1\" class=\"edge\">\n",
       "<title>4909767392*&#45;&gt;4909767392</title>\n",
       "<path fill=\"none\" stroke=\"black\" d=\"M284.26,-73.5C292.05,-73.5 301.1,-73.5 310.75,-73.5\"/>\n",
       "<polygon fill=\"black\" stroke=\"black\" points=\"310.99,-77 320.99,-73.5 310.99,-70 310.99,-77\"/>\n",
       "</g>\n",
       "<!-- 4909772576 -->\n",
       "<g id=\"node4\" class=\"node\">\n",
       "<title>4909772576</title>\n",
       "<polygon fill=\"none\" stroke=\"black\" points=\"960,-54.5 960,-90.5 1151,-90.5 1151,-54.5 960,-54.5\"/>\n",
       "<text text-anchor=\"middle\" x=\"970\" y=\"-68.8\" font-family=\"Times,serif\" font-size=\"14.00\"> </text>\n",
       "<polyline fill=\"none\" stroke=\"black\" points=\"980,-54.5 980,-90.5\"/>\n",
       "<text text-anchor=\"middle\" x=\"1022.5\" y=\"-68.8\" font-family=\"Times,serif\" font-size=\"14.00\">data &#45;8.0000</text>\n",
       "<polyline fill=\"none\" stroke=\"black\" points=\"1065,-54.5 1065,-90.5\"/>\n",
       "<text text-anchor=\"middle\" x=\"1108\" y=\"-68.8\" font-family=\"Times,serif\" font-size=\"14.00\">grad: 0.0000</text>\n",
       "</g>\n",
       "<!-- 4909772576*&#45;&gt;4909772576 -->\n",
       "<g id=\"edge2\" class=\"edge\">\n",
       "<title>4909772576*&#45;&gt;4909772576</title>\n",
       "<path fill=\"none\" stroke=\"black\" d=\"M924.19,-72.5C931.67,-72.5 940.31,-72.5 949.51,-72.5\"/>\n",
       "<polygon fill=\"black\" stroke=\"black\" points=\"949.68,-76 959.68,-72.5 949.68,-69 949.68,-76\"/>\n",
       "</g>\n",
       "<!-- 4908550464 -->\n",
       "<g id=\"node6\" class=\"node\">\n",
       "<title>4908550464</title>\n",
       "<polygon fill=\"none\" stroke=\"black\" points=\"0,-83.5 0,-119.5 194,-119.5 194,-83.5 0,-83.5\"/>\n",
       "<text text-anchor=\"middle\" x=\"11.5\" y=\"-97.8\" font-family=\"Times,serif\" font-size=\"14.00\">b</text>\n",
       "<polyline fill=\"none\" stroke=\"black\" points=\"23,-83.5 23,-119.5\"/>\n",
       "<text text-anchor=\"middle\" x=\"65.5\" y=\"-97.8\" font-family=\"Times,serif\" font-size=\"14.00\">data &#45;3.0000</text>\n",
       "<polyline fill=\"none\" stroke=\"black\" points=\"108,-83.5 108,-119.5\"/>\n",
       "<text text-anchor=\"middle\" x=\"151\" y=\"-97.8\" font-family=\"Times,serif\" font-size=\"14.00\">grad: 0.0000</text>\n",
       "</g>\n",
       "<!-- 4908550464&#45;&gt;4909767392* -->\n",
       "<g id=\"edge8\" class=\"edge\">\n",
       "<title>4908550464&#45;&gt;4909767392*</title>\n",
       "<path fill=\"none\" stroke=\"black\" d=\"M194.01,-84.49C203.35,-82.83 212.37,-81.23 220.49,-79.79\"/>\n",
       "<polygon fill=\"black\" stroke=\"black\" points=\"221.37,-83.19 230.6,-78 220.15,-76.3 221.37,-83.19\"/>\n",
       "</g>\n",
       "<!-- 4854149472 -->\n",
       "<g id=\"node7\" class=\"node\">\n",
       "<title>4854149472</title>\n",
       "<polygon fill=\"none\" stroke=\"black\" points=\"2.5,-28.5 2.5,-64.5 191.5,-64.5 191.5,-28.5 2.5,-28.5\"/>\n",
       "<text text-anchor=\"middle\" x=\"14\" y=\"-42.8\" font-family=\"Times,serif\" font-size=\"14.00\">a</text>\n",
       "<polyline fill=\"none\" stroke=\"black\" points=\"25.5,-28.5 25.5,-64.5\"/>\n",
       "<text text-anchor=\"middle\" x=\"65.5\" y=\"-42.8\" font-family=\"Times,serif\" font-size=\"14.00\">data 2.0000</text>\n",
       "<polyline fill=\"none\" stroke=\"black\" points=\"105.5,-28.5 105.5,-64.5\"/>\n",
       "<text text-anchor=\"middle\" x=\"148.5\" y=\"-42.8\" font-family=\"Times,serif\" font-size=\"14.00\">grad: 0.0000</text>\n",
       "</g>\n",
       "<!-- 4854149472&#45;&gt;4909767392* -->\n",
       "<g id=\"edge4\" class=\"edge\">\n",
       "<title>4854149472&#45;&gt;4909767392*</title>\n",
       "<path fill=\"none\" stroke=\"black\" d=\"M191.74,-62.52C201.85,-64.25 211.62,-65.92 220.37,-67.41\"/>\n",
       "<polygon fill=\"black\" stroke=\"black\" points=\"220.04,-70.9 230.48,-69.14 221.22,-64 220.04,-70.9\"/>\n",
       "</g>\n",
       "<!-- 4909772672 -->\n",
       "<g id=\"node8\" class=\"node\">\n",
       "<title>4909772672</title>\n",
       "<polygon fill=\"none\" stroke=\"black\" points=\"643.5,-27.5 643.5,-63.5 832.5,-63.5 832.5,-27.5 643.5,-27.5\"/>\n",
       "<text text-anchor=\"middle\" x=\"655\" y=\"-41.8\" font-family=\"Times,serif\" font-size=\"14.00\">d</text>\n",
       "<polyline fill=\"none\" stroke=\"black\" points=\"666.5,-27.5 666.5,-63.5\"/>\n",
       "<text text-anchor=\"middle\" x=\"706.5\" y=\"-41.8\" font-family=\"Times,serif\" font-size=\"14.00\">data 4.0000</text>\n",
       "<polyline fill=\"none\" stroke=\"black\" points=\"746.5,-27.5 746.5,-63.5\"/>\n",
       "<text text-anchor=\"middle\" x=\"789.5\" y=\"-41.8\" font-family=\"Times,serif\" font-size=\"14.00\">grad: 0.0000</text>\n",
       "</g>\n",
       "<!-- 4909772672&#45;&gt;4909772576* -->\n",
       "<g id=\"edge5\" class=\"edge\">\n",
       "<title>4909772672&#45;&gt;4909772576*</title>\n",
       "<path fill=\"none\" stroke=\"black\" d=\"M832.59,-61.6C842.49,-63.3 852.06,-64.94 860.63,-66.42\"/>\n",
       "<polygon fill=\"black\" stroke=\"black\" points=\"860.09,-69.88 870.54,-68.12 861.28,-62.98 860.09,-69.88\"/>\n",
       "</g>\n",
       "<!-- 4909772672+&#45;&gt;4909772672 -->\n",
       "<g id=\"edge3\" class=\"edge\">\n",
       "<title>4909772672+&#45;&gt;4909772672</title>\n",
       "<path fill=\"none\" stroke=\"black\" d=\"M606.28,-45.5C614.12,-45.5 623.23,-45.5 632.92,-45.5\"/>\n",
       "<polygon fill=\"black\" stroke=\"black\" points=\"633.21,-49 643.21,-45.5 633.21,-42 633.21,-49\"/>\n",
       "</g>\n",
       "<!-- 4908552144 -->\n",
       "<g id=\"node10\" class=\"node\">\n",
       "<title>4908552144</title>\n",
       "<polygon fill=\"none\" stroke=\"black\" points=\"320,-0.5 320,-36.5 516,-36.5 516,-0.5 320,-0.5\"/>\n",
       "<text text-anchor=\"middle\" x=\"331.5\" y=\"-14.8\" font-family=\"Times,serif\" font-size=\"14.00\">c</text>\n",
       "<polyline fill=\"none\" stroke=\"black\" points=\"343,-0.5 343,-36.5\"/>\n",
       "<text text-anchor=\"middle\" x=\"386.5\" y=\"-14.8\" font-family=\"Times,serif\" font-size=\"14.00\">data 10.0000</text>\n",
       "<polyline fill=\"none\" stroke=\"black\" points=\"430,-0.5 430,-36.5\"/>\n",
       "<text text-anchor=\"middle\" x=\"473\" y=\"-14.8\" font-family=\"Times,serif\" font-size=\"14.00\">grad: 0.0000</text>\n",
       "</g>\n",
       "<!-- 4908552144&#45;&gt;4909772672+ -->\n",
       "<g id=\"edge7\" class=\"edge\">\n",
       "<title>4908552144&#45;&gt;4909772672+</title>\n",
       "<path fill=\"none\" stroke=\"black\" d=\"M516.07,-34.98C525.42,-36.57 534.43,-38.1 542.55,-39.48\"/>\n",
       "<polygon fill=\"black\" stroke=\"black\" points=\"542.21,-42.97 552.65,-41.2 543.38,-36.07 542.21,-42.97\"/>\n",
       "</g>\n",
       "</g>\n",
       "</svg>\n"
      ],
      "text/plain": [
       "<graphviz.graphs.Digraph at 0x124a51660>"
      ]
     },
     "execution_count": 12,
     "metadata": {},
     "output_type": "execute_result"
    }
   ],
   "source": [
    "draw_dot(L)"
   ]
  },
  {
   "cell_type": "markdown",
   "id": "abc07e10",
   "metadata": {},
   "source": [
    "Back propagation by hand\n",
    "\n",
    "One important point to have in mind here is:\n",
    "\n",
    "$$\n",
    "L(f, d) = f\\cdot d\n",
    "$$\n",
    "\n",
    "with $d = d(c, e)$ or with $e = e(a, b)$ therefore $d = d(c, e(a, b))$. If we expand the derivative we have:\n",
    "\n",
    "$$\n",
    "\\frac{\\partial L}{\\partial f} = \\frac{\\partial (f\\cdot d)}{\\partial f} = \\frac{\\partial f}{\\partial f} d + \\frac{\\partial d}{\\partial f} f = d + 0 = d.\n",
    "$$\n",
    "\n",
    "and \n",
    "\n",
    "$$\n",
    "\\frac{\\partial L}{\\partial d} = \\frac{\\partial (f\\cdot d)}{\\partial d} = \\frac{\\partial f}{\\partial d} d + \\frac{\\partial d}{\\partial d} f = 0 + f = f.\n",
    "$$\n",
    "\n",
    "Note that, if $d = f + c$ instead of $d = e + c$ then we would have:\n",
    "$$\n",
    "\\frac{\\partial L}{\\partial f} = \\frac{\\partial (f\\cdot d)}{\\partial f} = \\frac{\\partial f}{\\partial f} d + \\frac{\\partial d}{\\partial f} f = \\frac{\\partial f}{\\partial f} d + \\frac{\\partial (f + c)}{\\partial f} f = d + f.\n",
    "$$\n",
    "\n",
    "Another important point to have in mind, regarding notation, is the following. although it is written `d.grad`, in fact this means the derivative of `L` with respect to `d` and not the gradient of `d`. In more general terms, `d.grad` is the derivative of the root expression (highest level) with respect to the variable we are considering."
   ]
  },
  {
   "cell_type": "code",
   "execution_count": 13,
   "id": "8bd7e693",
   "metadata": {},
   "outputs": [],
   "source": [
    "# L = d * f\n",
    "# d = e + c\n",
    "# e = b * a\n",
    "\n",
    "# So for the different layers (levels) of the expression we have:\n",
    "# L = d * f            (first level)\n",
    "# L = (e + c) * f      (second level)\n",
    "# L = ((b*a) + c) * f  (third level)\n",
    "L.grad = 1.0 # initialize it to it value, since dL/dL = 1\n",
    "d.grad = f.data  #  L = d*f => dL/dd = f\n",
    "f.grad = d.data  #  L = d*f => dL/df = d"
   ]
  },
  {
   "cell_type": "markdown",
   "id": "8d2f8aad",
   "metadata": {},
   "source": [
    "So now to compute $\\frac{\\partial L}{\\partial c}$ we need to use the chain rule to get:\n",
    "\n",
    "$$\n",
    "\\frac{\\partial L}{\\partial c} = \\frac{\\partial L(d, f)}{\\partial c} = \\frac{\\partial L(d, f)}{\\partial d}\\frac{\\partial d}{\\partial c} + \\frac{\\partial L(d, f)}{\\partial f}\\frac{\\partial f}{\\partial c} = \\frac{\\partial L(d, f)}{\\partial d}\\frac{\\partial (e + c)}{\\partial c} + 0 = \\frac{\\partial L(d, f)}{\\partial d}\\cdot 1 = \\frac{\\partial L(d, f)}{\\partial d}.\n",
    "$$\n",
    "\n",
    "We can see that we reused $\\frac{\\partial L(d, f)}{\\partial d}$ and $\\frac{\\partial L(d, f)}{\\partial f}$ that was computed in the previous step.\n",
    "\n",
    "This expression clearly shows that at each point of the graph we just need to have the derivative of the upstream expression with respect to the parent and the derivative of the parent with respect to the child. Combining the two we can easily get the derivative of the root expression with respect to the node."
   ]
  },
  {
   "cell_type": "code",
   "execution_count": 14,
   "id": "ab04e983",
   "metadata": {},
   "outputs": [],
   "source": [
    "c.grad = d.grad  # d = e + c, so dL/dc = dL/dd * dd/dc = dL/dd * 1\n",
    "e.grad = d.grad  # d = e + c, so dL/de = dL/dd * dd/de = dL/dd * 1"
   ]
  },
  {
   "cell_type": "markdown",
   "id": "1176db9d",
   "metadata": {},
   "source": [
    "## We got until about here in the previous session\n",
    "\n",
    "Continuing to fill in the example manually using the chain rule:"
   ]
  },
  {
   "cell_type": "code",
   "execution_count": 18,
   "id": "ef41bcfa",
   "metadata": {},
   "outputs": [],
   "source": [
    "b.grad = e.grad * a.data  # e = a*b, so dL/b = dL/de * de/db = dL/de * a\n",
    "a.grad = e.grad * b.data  # e = a*b, so dL/a = dL/de * de/da = dL/de * b"
   ]
  },
  {
   "cell_type": "markdown",
   "id": "5e8064ed",
   "metadata": {},
   "source": [
    "Draw again with values filled in:"
   ]
  },
  {
   "cell_type": "code",
   "execution_count": 17,
   "id": "5ed37260",
   "metadata": {},
   "outputs": [
    {
     "data": {
      "image/svg+xml": [
       "<?xml version=\"1.0\" encoding=\"UTF-8\" standalone=\"no\"?>\n",
       "<!DOCTYPE svg PUBLIC \"-//W3C//DTD SVG 1.1//EN\"\n",
       " \"http://www.w3.org/Graphics/SVG/1.1/DTD/svg11.dtd\">\n",
       "<!-- Generated by graphviz version 6.0.1 (0)\n",
       " -->\n",
       "<!-- Pages: 1 -->\n",
       "<svg width=\"1168pt\" height=\"128pt\"\n",
       " viewBox=\"0.00 0.00 1168.00 128.00\" xmlns=\"http://www.w3.org/2000/svg\" xmlns:xlink=\"http://www.w3.org/1999/xlink\">\n",
       "<g id=\"graph0\" class=\"graph\" transform=\"scale(1 1) rotate(0) translate(4 124)\">\n",
       "<polygon fill=\"white\" stroke=\"none\" points=\"-4,4 -4,-124 1164,-124 1164,4 -4,4\"/>\n",
       "<!-- 4909763120 -->\n",
       "<g id=\"node1\" class=\"node\">\n",
       "<title>4909763120</title>\n",
       "<polygon fill=\"none\" stroke=\"black\" points=\"650.5,-82.5 650.5,-118.5 842.5,-118.5 842.5,-82.5 650.5,-82.5\"/>\n",
       "<text text-anchor=\"middle\" x=\"661\" y=\"-96.8\" font-family=\"Times,serif\" font-size=\"14.00\">f</text>\n",
       "<polyline fill=\"none\" stroke=\"black\" points=\"671.5,-82.5 671.5,-118.5\"/>\n",
       "<text text-anchor=\"middle\" x=\"714\" y=\"-96.8\" font-family=\"Times,serif\" font-size=\"14.00\">data &#45;2.0000</text>\n",
       "<polyline fill=\"none\" stroke=\"black\" points=\"756.5,-82.5 756.5,-118.5\"/>\n",
       "<text text-anchor=\"middle\" x=\"799.5\" y=\"-96.8\" font-family=\"Times,serif\" font-size=\"14.00\">grad: 4.0000</text>\n",
       "</g>\n",
       "<!-- 4909772576* -->\n",
       "<g id=\"node5\" class=\"node\">\n",
       "<title>4909772576*</title>\n",
       "<ellipse fill=\"none\" stroke=\"black\" cx=\"906\" cy=\"-72.5\" rx=\"27\" ry=\"18\"/>\n",
       "<text text-anchor=\"middle\" x=\"906\" y=\"-68.8\" font-family=\"Times,serif\" font-size=\"14.00\">*</text>\n",
       "</g>\n",
       "<!-- 4909763120&#45;&gt;4909772576* -->\n",
       "<g id=\"edge6\" class=\"edge\">\n",
       "<title>4909763120&#45;&gt;4909772576*</title>\n",
       "<path fill=\"none\" stroke=\"black\" d=\"M842.75,-83.57C852.32,-81.87 861.54,-80.23 869.83,-78.75\"/>\n",
       "<polygon fill=\"black\" stroke=\"black\" points=\"870.54,-82.18 879.78,-76.98 869.32,-75.29 870.54,-82.18\"/>\n",
       "</g>\n",
       "<!-- 4909767392 -->\n",
       "<g id=\"node2\" class=\"node\">\n",
       "<title>4909767392</title>\n",
       "<polygon fill=\"none\" stroke=\"black\" points=\"325,-55.5 325,-91.5 523,-91.5 523,-55.5 325,-55.5\"/>\n",
       "<text text-anchor=\"middle\" x=\"336.5\" y=\"-69.8\" font-family=\"Times,serif\" font-size=\"14.00\">e</text>\n",
       "<polyline fill=\"none\" stroke=\"black\" points=\"348,-55.5 348,-91.5\"/>\n",
       "<text text-anchor=\"middle\" x=\"390.5\" y=\"-69.8\" font-family=\"Times,serif\" font-size=\"14.00\">data &#45;6.0000</text>\n",
       "<polyline fill=\"none\" stroke=\"black\" points=\"433,-55.5 433,-91.5\"/>\n",
       "<text text-anchor=\"middle\" x=\"478\" y=\"-69.8\" font-family=\"Times,serif\" font-size=\"14.00\">grad: &#45;2.0000</text>\n",
       "</g>\n",
       "<!-- 4909772672+ -->\n",
       "<g id=\"node9\" class=\"node\">\n",
       "<title>4909772672+</title>\n",
       "<ellipse fill=\"none\" stroke=\"black\" cx=\"587\" cy=\"-45.5\" rx=\"27\" ry=\"18\"/>\n",
       "<text text-anchor=\"middle\" x=\"587\" y=\"-41.8\" font-family=\"Times,serif\" font-size=\"14.00\">+</text>\n",
       "</g>\n",
       "<!-- 4909767392&#45;&gt;4909772672+ -->\n",
       "<g id=\"edge9\" class=\"edge\">\n",
       "<title>4909767392&#45;&gt;4909772672+</title>\n",
       "<path fill=\"none\" stroke=\"black\" d=\"M523.29,-56.41C532.96,-54.72 542.27,-53.11 550.62,-51.65\"/>\n",
       "<polygon fill=\"black\" stroke=\"black\" points=\"551.38,-55.07 560.64,-49.91 550.18,-48.18 551.38,-55.07\"/>\n",
       "</g>\n",
       "<!-- 4909767392* -->\n",
       "<g id=\"node3\" class=\"node\">\n",
       "<title>4909767392*</title>\n",
       "<ellipse fill=\"none\" stroke=\"black\" cx=\"261\" cy=\"-73.5\" rx=\"27\" ry=\"18\"/>\n",
       "<text text-anchor=\"middle\" x=\"261\" y=\"-69.8\" font-family=\"Times,serif\" font-size=\"14.00\">*</text>\n",
       "</g>\n",
       "<!-- 4909767392*&#45;&gt;4909767392 -->\n",
       "<g id=\"edge1\" class=\"edge\">\n",
       "<title>4909767392*&#45;&gt;4909767392</title>\n",
       "<path fill=\"none\" stroke=\"black\" d=\"M288.23,-73.5C295.96,-73.5 304.95,-73.5 314.55,-73.5\"/>\n",
       "<polygon fill=\"black\" stroke=\"black\" points=\"314.74,-77 324.74,-73.5 314.74,-70 314.74,-77\"/>\n",
       "</g>\n",
       "<!-- 4909772576 -->\n",
       "<g id=\"node4\" class=\"node\">\n",
       "<title>4909772576</title>\n",
       "<polygon fill=\"none\" stroke=\"black\" points=\"969,-54.5 969,-90.5 1160,-90.5 1160,-54.5 969,-54.5\"/>\n",
       "<text text-anchor=\"middle\" x=\"979\" y=\"-68.8\" font-family=\"Times,serif\" font-size=\"14.00\"> </text>\n",
       "<polyline fill=\"none\" stroke=\"black\" points=\"989,-54.5 989,-90.5\"/>\n",
       "<text text-anchor=\"middle\" x=\"1031.5\" y=\"-68.8\" font-family=\"Times,serif\" font-size=\"14.00\">data &#45;8.0000</text>\n",
       "<polyline fill=\"none\" stroke=\"black\" points=\"1074,-54.5 1074,-90.5\"/>\n",
       "<text text-anchor=\"middle\" x=\"1117\" y=\"-68.8\" font-family=\"Times,serif\" font-size=\"14.00\">grad: 1.0000</text>\n",
       "</g>\n",
       "<!-- 4909772576*&#45;&gt;4909772576 -->\n",
       "<g id=\"edge2\" class=\"edge\">\n",
       "<title>4909772576*&#45;&gt;4909772576</title>\n",
       "<path fill=\"none\" stroke=\"black\" d=\"M933.19,-72.5C940.67,-72.5 949.31,-72.5 958.51,-72.5\"/>\n",
       "<polygon fill=\"black\" stroke=\"black\" points=\"958.68,-76 968.68,-72.5 958.68,-69 958.68,-76\"/>\n",
       "</g>\n",
       "<!-- 4908550464 -->\n",
       "<g id=\"node6\" class=\"node\">\n",
       "<title>4908550464</title>\n",
       "<polygon fill=\"none\" stroke=\"black\" points=\"0,-83.5 0,-119.5 198,-119.5 198,-83.5 0,-83.5\"/>\n",
       "<text text-anchor=\"middle\" x=\"11.5\" y=\"-97.8\" font-family=\"Times,serif\" font-size=\"14.00\">b</text>\n",
       "<polyline fill=\"none\" stroke=\"black\" points=\"23,-83.5 23,-119.5\"/>\n",
       "<text text-anchor=\"middle\" x=\"65.5\" y=\"-97.8\" font-family=\"Times,serif\" font-size=\"14.00\">data &#45;3.0000</text>\n",
       "<polyline fill=\"none\" stroke=\"black\" points=\"108,-83.5 108,-119.5\"/>\n",
       "<text text-anchor=\"middle\" x=\"153\" y=\"-97.8\" font-family=\"Times,serif\" font-size=\"14.00\">grad: &#45;4.0000</text>\n",
       "</g>\n",
       "<!-- 4908550464&#45;&gt;4909767392* -->\n",
       "<g id=\"edge8\" class=\"edge\">\n",
       "<title>4908550464&#45;&gt;4909767392*</title>\n",
       "<path fill=\"none\" stroke=\"black\" d=\"M198.14,-84.33C207.5,-82.69 216.5,-81.11 224.61,-79.69\"/>\n",
       "<polygon fill=\"black\" stroke=\"black\" points=\"225.46,-83.1 234.7,-77.93 224.25,-76.2 225.46,-83.1\"/>\n",
       "</g>\n",
       "<!-- 4854149472 -->\n",
       "<g id=\"node7\" class=\"node\">\n",
       "<title>4854149472</title>\n",
       "<polygon fill=\"none\" stroke=\"black\" points=\"4.5,-28.5 4.5,-64.5 193.5,-64.5 193.5,-28.5 4.5,-28.5\"/>\n",
       "<text text-anchor=\"middle\" x=\"16\" y=\"-42.8\" font-family=\"Times,serif\" font-size=\"14.00\">a</text>\n",
       "<polyline fill=\"none\" stroke=\"black\" points=\"27.5,-28.5 27.5,-64.5\"/>\n",
       "<text text-anchor=\"middle\" x=\"67.5\" y=\"-42.8\" font-family=\"Times,serif\" font-size=\"14.00\">data 2.0000</text>\n",
       "<polyline fill=\"none\" stroke=\"black\" points=\"107.5,-28.5 107.5,-64.5\"/>\n",
       "<text text-anchor=\"middle\" x=\"150.5\" y=\"-42.8\" font-family=\"Times,serif\" font-size=\"14.00\">grad: 6.0000</text>\n",
       "</g>\n",
       "<!-- 4854149472&#45;&gt;4909767392* -->\n",
       "<g id=\"edge4\" class=\"edge\">\n",
       "<title>4854149472&#45;&gt;4909767392*</title>\n",
       "<path fill=\"none\" stroke=\"black\" d=\"M193.54,-62.28C204.47,-64.13 215.05,-65.91 224.44,-67.5\"/>\n",
       "<polygon fill=\"black\" stroke=\"black\" points=\"224.04,-70.98 234.48,-69.19 225.21,-64.08 224.04,-70.98\"/>\n",
       "</g>\n",
       "<!-- 4909772672 -->\n",
       "<g id=\"node8\" class=\"node\">\n",
       "<title>4909772672</title>\n",
       "<polygon fill=\"none\" stroke=\"black\" points=\"650,-27.5 650,-63.5 843,-63.5 843,-27.5 650,-27.5\"/>\n",
       "<text text-anchor=\"middle\" x=\"661.5\" y=\"-41.8\" font-family=\"Times,serif\" font-size=\"14.00\">d</text>\n",
       "<polyline fill=\"none\" stroke=\"black\" points=\"673,-27.5 673,-63.5\"/>\n",
       "<text text-anchor=\"middle\" x=\"713\" y=\"-41.8\" font-family=\"Times,serif\" font-size=\"14.00\">data 4.0000</text>\n",
       "<polyline fill=\"none\" stroke=\"black\" points=\"753,-27.5 753,-63.5\"/>\n",
       "<text text-anchor=\"middle\" x=\"798\" y=\"-41.8\" font-family=\"Times,serif\" font-size=\"14.00\">grad: &#45;2.0000</text>\n",
       "</g>\n",
       "<!-- 4909772672&#45;&gt;4909772576* -->\n",
       "<g id=\"edge5\" class=\"edge\">\n",
       "<title>4909772672&#45;&gt;4909772576*</title>\n",
       "<path fill=\"none\" stroke=\"black\" d=\"M843.2,-61.91C852.52,-63.5 861.5,-65.04 869.6,-66.43\"/>\n",
       "<polygon fill=\"black\" stroke=\"black\" points=\"869.24,-69.92 879.68,-68.16 870.42,-63.02 869.24,-69.92\"/>\n",
       "</g>\n",
       "<!-- 4909772672+&#45;&gt;4909772672 -->\n",
       "<g id=\"edge3\" class=\"edge\">\n",
       "<title>4909772672+&#45;&gt;4909772672</title>\n",
       "<path fill=\"none\" stroke=\"black\" d=\"M614.01,-45.5C621.52,-45.5 630.21,-45.5 639.47,-45.5\"/>\n",
       "<polygon fill=\"black\" stroke=\"black\" points=\"639.72,-49 649.72,-45.5 639.72,-42 639.72,-49\"/>\n",
       "</g>\n",
       "<!-- 4908552144 -->\n",
       "<g id=\"node10\" class=\"node\">\n",
       "<title>4908552144</title>\n",
       "<polygon fill=\"none\" stroke=\"black\" points=\"324,-0.5 324,-36.5 524,-36.5 524,-0.5 324,-0.5\"/>\n",
       "<text text-anchor=\"middle\" x=\"335.5\" y=\"-14.8\" font-family=\"Times,serif\" font-size=\"14.00\">c</text>\n",
       "<polyline fill=\"none\" stroke=\"black\" points=\"347,-0.5 347,-36.5\"/>\n",
       "<text text-anchor=\"middle\" x=\"390.5\" y=\"-14.8\" font-family=\"Times,serif\" font-size=\"14.00\">data 10.0000</text>\n",
       "<polyline fill=\"none\" stroke=\"black\" points=\"434,-0.5 434,-36.5\"/>\n",
       "<text text-anchor=\"middle\" x=\"479\" y=\"-14.8\" font-family=\"Times,serif\" font-size=\"14.00\">grad: &#45;2.0000</text>\n",
       "</g>\n",
       "<!-- 4908552144&#45;&gt;4909772672+ -->\n",
       "<g id=\"edge7\" class=\"edge\">\n",
       "<title>4908552144&#45;&gt;4909772672+</title>\n",
       "<path fill=\"none\" stroke=\"black\" d=\"M524.21,-35.14C533.57,-36.71 542.57,-38.22 550.67,-39.58\"/>\n",
       "<polygon fill=\"black\" stroke=\"black\" points=\"550.31,-43.06 560.76,-41.27 551.47,-36.16 550.31,-43.06\"/>\n",
       "</g>\n",
       "</g>\n",
       "</svg>\n"
      ],
      "text/plain": [
       "<graphviz.graphs.Digraph at 0x124a51d20>"
      ]
     },
     "execution_count": 17,
     "metadata": {},
     "output_type": "execute_result"
    }
   ],
   "source": [
    "draw_dot(L)"
   ]
  },
  {
   "cell_type": "markdown",
   "id": "64988be9",
   "metadata": {},
   "source": [
    "## We resume with a preview of an optimization step\n",
    "\n",
    "(No need to type along here)"
   ]
  },
  {
   "cell_type": "markdown",
   "id": "5a33fb87",
   "metadata": {},
   "source": [
    "## followed by another example, this time of a \"neuron\""
   ]
  },
  {
   "cell_type": "code",
   "execution_count": null,
   "id": "0b9616ad",
   "metadata": {},
   "outputs": [],
   "source": [
    "# Input x1, x2\n",
    "x1 = Value(2.0, label='x1')\n",
    "x2 = Value(0.0, label='x2')\n",
    "\n",
    "# Weights w1, w2\n",
    "w1 = Value(-3.0, label='w1')\n",
    "w2 = Value(1.0, label='w2')\n",
    "\n",
    "# Bias of the neuron\n",
    "b = Value(6.7, label='b')\n",
    "\n",
    "# Computation of x1*w1 + x2*w2 + b\n",
    "x1w1 = x1*w1; x1w1.label='x1*w1' \n",
    "x2w2 = x2*w2; x2w2.label='x2*w2'\n",
    "x1w1x2w2 = x1w1 + x2w2; x1w1x2w2.label='x2*w1 + x2*w2'\n",
    "n = x1w1x2w2 + b; n.label='n'\n",
    "draw_dot(n)\n",
    "\n",
    "# o = n.tanh(); o.label='o'  # you first need to uncomment tanh in the definition of Value\n",
    "# draw_dot(o)"
   ]
  },
  {
   "cell_type": "markdown",
   "id": "2aac9794",
   "metadata": {},
   "source": [
    "## Topological sort code (at 1:18:45 )"
   ]
  },
  {
   "cell_type": "markdown",
   "id": "b9e98879",
   "metadata": {},
   "source": [
    "Function that constructs the acyclical graph of the chain of operations such that we can start at the top and traverse each edge of the graph once."
   ]
  },
  {
   "cell_type": "code",
   "execution_count": null,
   "id": "a529d252",
   "metadata": {},
   "outputs": [],
   "source": [
    "# Define variable o first before running what follows"
   ]
  },
  {
   "cell_type": "code",
   "execution_count": null,
   "id": "280b7598",
   "metadata": {},
   "outputs": [],
   "source": [
    "topo = []\n",
    "visited = set()\n",
    "def build_topo(v):\n",
    "    if v not in visited:\n",
    "        visited.add(v)\n",
    "        for child in v._prev:\n",
    "            build_topo(child)\n",
    "        topo.append(v)\n",
    "build_topo(o)\n",
    "topo"
   ]
  },
  {
   "cell_type": "code",
   "execution_count": null,
   "id": "81918d1d",
   "metadata": {},
   "outputs": [],
   "source": [
    "o.grad = 1.0 # initialize the gradient of the last node\n",
    "\n",
    "# Initialize the gradients in the order given by the topological ordering\n",
    "for node in reversed(topo):\n",
    "    node._backward()\n",
    "    \n",
    "draw_dot(o)"
   ]
  },
  {
   "cell_type": "markdown",
   "id": "3b702882",
   "metadata": {},
   "source": [
    "# For after session 2"
   ]
  },
  {
   "cell_type": "markdown",
   "id": "c4606de7",
   "metadata": {},
   "source": [
    "## 1:39:54 Pytorch comparison"
   ]
  },
  {
   "cell_type": "code",
   "execution_count": null,
   "id": "f8a3d9c8",
   "metadata": {},
   "outputs": [],
   "source": [
    "import torch\n",
    "\n",
    "x1 = torch.Tensor([2.0]).double()                ; x1.requires_grad = True\n",
    "x2 = torch.Tensor([0.0]).double()                ; x2.requires_grad = True\n",
    "w1 = torch.Tensor([-3.0]).double()               ; w1.requires_grad = True\n",
    "w2 = torch.Tensor([1.0]).double()                ; w2.requires_grad = True\n",
    "b = torch.Tensor([6.8813735870195432]).double()  ; b.requires_grad = True\n",
    "n = x1*w1 + x2*w2 + b\n",
    "o = torch.tanh(n)\n",
    "\n",
    "print(o.data.item())\n",
    "o.backward()\n",
    "\n",
    "print('---')\n",
    "print('x2', x2.grad.item())\n",
    "print('w2', w2.grad.item())\n",
    "print('x1', x1.grad.item())\n",
    "print('w1', w1.grad.item())"
   ]
  },
  {
   "cell_type": "markdown",
   "id": "a7b63885",
   "metadata": {},
   "source": [
    "## 1:44:37 Neuron"
   ]
  },
  {
   "cell_type": "code",
   "execution_count": null,
   "id": "ee7f7b67",
   "metadata": {},
   "outputs": [],
   "source": [
    "class Neuron:\n",
    "    def __init__(self, nin):\n",
    "        self.w = [Value(random.uniform(-1,1)) for _ in range(nin)]\n",
    "        self.b = Value(random.uniform(-1,1))"
   ]
  },
  {
   "cell_type": "markdown",
   "id": "91a6f612",
   "metadata": {},
   "source": [
    "## 1:48:22 Layer"
   ]
  },
  {
   "cell_type": "code",
   "execution_count": null,
   "id": "7d27a123",
   "metadata": {},
   "outputs": [],
   "source": [
    "class Layer:\n",
    "    def __init__(self, nin, nout):\n",
    "        self.neurons = [Neuron(nin) for _ in range(nout)]\n",
    "    \n",
    "    def __call__(self, x):\n",
    "        outs = [n(x) for n in self.neurons]\n",
    "        return outs"
   ]
  },
  {
   "cell_type": "markdown",
   "id": "24540f1c",
   "metadata": {},
   "source": [
    "## 1:49:19 MLP"
   ]
  },
  {
   "cell_type": "code",
   "execution_count": null,
   "id": "2299e49b",
   "metadata": {},
   "outputs": [],
   "source": [
    "class MLP:\n",
    "    \n",
    "    def __init__(self, nin, nouts):\n",
    "        sz = [nin] + nouts\n",
    "        self.layers = [Layer(sz[i], sz[i+1]) for i in range(len(nouts))]\n",
    "        \n",
    "    def __call__(self, x):\n",
    "        for layer in self.layers:\n",
    "            x = layer(x)\n",
    "        return x"
   ]
  },
  {
   "cell_type": "markdown",
   "id": "237672d7",
   "metadata": {},
   "source": [
    "## 1:51:07 Example dataset"
   ]
  },
  {
   "cell_type": "code",
   "execution_count": null,
   "id": "b3499f9e",
   "metadata": {},
   "outputs": [],
   "source": [
    "xs = [\n",
    "    [2.0, 3.0, -1.0],\n",
    "    [3.0, -1.0, 0.5],\n",
    "    [0.5, 1.0, 1.0],\n",
    "    [1.0, 1.0, -1.0],\n",
    "]\n",
    "ys = [1.0, -1.0, -1.0, 1.0]  # desired targets"
   ]
  },
  {
   "cell_type": "code",
   "execution_count": null,
   "id": "9e280f19",
   "metadata": {},
   "outputs": [],
   "source": []
  }
 ],
 "metadata": {
  "kernelspec": {
   "display_name": "micrograd",
   "language": "python",
   "name": "micrograd"
  },
  "language_info": {
   "codemirror_mode": {
    "name": "ipython",
    "version": 3
   },
   "file_extension": ".py",
   "mimetype": "text/x-python",
   "name": "python",
   "nbconvert_exporter": "python",
   "pygments_lexer": "ipython3",
   "version": "3.10.6"
  }
 },
 "nbformat": 4,
 "nbformat_minor": 5
}
