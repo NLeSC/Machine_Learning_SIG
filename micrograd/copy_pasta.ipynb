{
 "cells": [
  {
   "cell_type": "markdown",
   "id": "7cc6c3e9",
   "metadata": {},
   "source": [
    "# Micrograd: Tutorial on automatic differentiation using backpropagation\n",
    "## by Andrej Karpathy"
   ]
  },
  {
   "cell_type": "markdown",
   "id": "c2ee7b79",
   "metadata": {},
   "source": [
    "This notebook just contains the code that he copy-pastes and that is too long to type along, along with a time stamp referring to [the video](https://www.youtube.com/watch?v=VMj-3S1tku0).\n",
    "You will need to change this code later, so it is easiest to follow along by just adding to this notebook."
   ]
  },
  {
   "cell_type": "markdown",
   "id": "17c8960b",
   "metadata": {},
   "source": [
    "## Setup"
   ]
  },
  {
   "cell_type": "markdown",
   "id": "37c403d3",
   "metadata": {},
   "source": [
    "If you prefer to run this locally rather than on Google Colab, uncomment and run the cell below to install the dependencies:"
   ]
  },
  {
   "cell_type": "code",
   "execution_count": null,
   "id": "c4c95e98",
   "metadata": {},
   "outputs": [],
   "source": [
    "# # for visualization\n",
    "# !pip install graphviz\n",
    "# # for comparison\n",
    "# !pip install numpy pytorch"
   ]
  },
  {
   "cell_type": "markdown",
   "id": "20b2fcfb",
   "metadata": {},
   "source": [
    "## 25:07 visualization code"
   ]
  },
  {
   "cell_type": "code",
   "execution_count": null,
   "id": "4170b350",
   "metadata": {},
   "outputs": [],
   "source": [
    "from graphviz import Digraph\n",
    "\n",
    "def trace(root):\n",
    "    # builds a set of all nodes and edges in a graph\n",
    "    nodes, edges = set(), set()\n",
    "    def build(v):\n",
    "        if v not in nodes:\n",
    "            nodes.add(v)\n",
    "            for child in v._prev:\n",
    "                edges.add((child, v))\n",
    "                build(child)\n",
    "        build(root)\n",
    "        return nodes, edges\n",
    "\n",
    "def draw_dot(root):\n",
    "    dot = Digraph(format='svg', graph_attr={'rankdir': 'LR'})  # LR = left to right\n",
    "    \n",
    "    nodes, edges = trace(root)\n",
    "    for n in nodes:\n",
    "        uid = str(id(n))\n",
    "        # for any value in the graph, create a rectangular ('record') node for it\n",
    "        dot.node(name = uid, label = \"{ data %.4f }\" % (n.data, ), shape='record')\n",
    "        if n._op:\n",
    "            # if this value is a result of some operation, create an op node for it\n",
    "            dot.node(name = uid + n._op, label = n._op)\n",
    "            # and connect this node to it\n",
    "            dot.edge(uid + n._op, uid)\n",
    "            \n",
    "        for n1, n2 in edges:\n",
    "            # connect n1 to the op node of n2\n",
    "            dot.edge(str(id(n1)), str(id(n2)) + n2._op)\n",
    "            \n",
    "        return dot"
   ]
  },
  {
   "cell_type": "markdown",
   "id": "6daccbd0",
   "metadata": {},
   "source": [
    "## 1:18:45 Topological sort"
   ]
  },
  {
   "cell_type": "markdown",
   "id": "e4e294a1",
   "metadata": {},
   "source": [
    "(define `o` first before running this)"
   ]
  },
  {
   "cell_type": "code",
   "execution_count": null,
   "id": "699f6384",
   "metadata": {},
   "outputs": [],
   "source": [
    "topo = []\n",
    "visited = set()\n",
    "def build_topo(v):\n",
    "    if v not in visited:\n",
    "        visited.add(v)\n",
    "        for child in v._prev:\n",
    "            build_topo(child)\n",
    "        topo.append(v)\n",
    "build_topo(o)\n",
    "topo"
   ]
  },
  {
   "cell_type": "markdown",
   "id": "eb83e84b",
   "metadata": {},
   "source": [
    "## 1:39:54 Pytorch comparison"
   ]
  },
  {
   "cell_type": "code",
   "execution_count": null,
   "id": "3a200ae8",
   "metadata": {},
   "outputs": [],
   "source": [
    "import torch\n",
    "\n",
    "x1 = torch.Tensor([2.0]).double()                ; x1.requires_grad = True\n",
    "x2 = torch.Tensor([0.0]).double()                ; x2.requires_grad = True\n",
    "w1 = torch.Tensor([-3.0]).double()               ; w1.requires_grad = True\n",
    "w2 = torch.Tensor([1.0]).double()                ; w2.requires_grad = True\n",
    "b = torch.Tensor([6.8813735870195432]).double()  ; b.requires_grad = True\n",
    "n = x1*w1 + x2*w2 + b\n",
    "o = torch.tanh(n)\n",
    "\n",
    "print(o.data.item())\n",
    "o.backward()\n",
    "\n",
    "print('---')\n",
    "print('x2', x2.grad.item())\n",
    "print('w2', w2.grad.item())\n",
    "print('x1', x1.grad.item())\n",
    "print('w1', w1.grad.item())"
   ]
  },
  {
   "cell_type": "markdown",
   "id": "73a9a6a0",
   "metadata": {},
   "source": [
    "## 1:44:37 Neuron"
   ]
  },
  {
   "cell_type": "code",
   "execution_count": null,
   "id": "f18ac6da",
   "metadata": {},
   "outputs": [],
   "source": [
    "class Neuron:\n",
    "    def __init__(self, nin):\n",
    "        self.w = [Value(random.uniform(-1,1)) for _ in range(nin)]\n",
    "        self.b = Value(random.uniform(-1,1))"
   ]
  },
  {
   "cell_type": "markdown",
   "id": "df6a4b53",
   "metadata": {},
   "source": [
    "## 1:48:22 Layer"
   ]
  },
  {
   "cell_type": "code",
   "execution_count": null,
   "id": "fd359e37",
   "metadata": {},
   "outputs": [],
   "source": [
    "class Layer:\n",
    "    def __init__(self, nin, nout):\n",
    "        self.neurons = [Neuron(nin) for _ in range(nout)]\n",
    "    \n",
    "    def __call__(self, x):\n",
    "        outs = [n(x) for n in self.neurons]\n",
    "        return outs"
   ]
  },
  {
   "cell_type": "markdown",
   "id": "cb6b9e21",
   "metadata": {},
   "source": [
    "## 1:49:19 MLP"
   ]
  },
  {
   "cell_type": "code",
   "execution_count": null,
   "id": "1c664d8b",
   "metadata": {},
   "outputs": [],
   "source": [
    "class MLP:\n",
    "    \n",
    "    def __init__(self, nin, nouts):\n",
    "        sz = [nin] + nouts\n",
    "        self.layers = [Layer(sz[i], sz[i+1]) for i in range(len(nouts))]\n",
    "        \n",
    "    def __call__(self, x):\n",
    "        for layer in self.layers:\n",
    "            x = layer(x)\n",
    "        return x"
   ]
  },
  {
   "cell_type": "markdown",
   "id": "bbd528f6",
   "metadata": {},
   "source": [
    "## 1:51:07 Example dataset"
   ]
  },
  {
   "cell_type": "code",
   "execution_count": null,
   "id": "01578b7d",
   "metadata": {},
   "outputs": [],
   "source": [
    "xs = [\n",
    "    [2.0, 3.0, -1.0],\n",
    "    [3.0, -1.0, 0.5],\n",
    "    [0.5, 1.0, 1.0],\n",
    "    [1.0, 1.0, -1.0],\n",
    "]\n",
    "ys = [1.0, -1.0, -1.0, 1.0]  # desired targets"
   ]
  },
  {
   "cell_type": "code",
   "execution_count": null,
   "id": "ac13e478",
   "metadata": {},
   "outputs": [],
   "source": []
  }
 ],
 "metadata": {
  "kernelspec": {
   "display_name": "micrograd",
   "language": "python",
   "name": "micrograd"
  },
  "language_info": {
   "codemirror_mode": {
    "name": "ipython",
    "version": 3
   },
   "file_extension": ".py",
   "mimetype": "text/x-python",
   "name": "python",
   "nbconvert_exporter": "python",
   "pygments_lexer": "ipython3",
   "version": "3.10.6"
  }
 },
 "nbformat": 4,
 "nbformat_minor": 5
}
