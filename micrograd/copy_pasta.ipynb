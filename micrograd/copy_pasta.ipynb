{
 "cells": [
  {
   "cell_type": "markdown",
   "id": "7cc6c3e9",
   "metadata": {},
   "source": [
    "# Micrograd: Tutorial on automatic differentiation using backpropagation\n",
    "## by Andrej Karpathy"
   ]
  },
  {
   "cell_type": "markdown",
   "id": "c2ee7b79",
   "metadata": {},
   "source": [
    "This notebook just contains the code that he copy-pastes and that is too long to type along, along with a time stamp referring to [the video](https://www.youtube.com/watch?v=VMj-3S1tku0).\n",
    "You will need to change this code later, so it is easiest to follow along by just adding to this notebook."
   ]
  },
  {
   "cell_type": "markdown",
   "id": "5f9431be",
   "metadata": {},
   "source": [
    "# Preliminary exploration"
   ]
  },
  {
   "cell_type": "markdown",
   "id": "10eb0e85",
   "metadata": {},
   "source": [
    "## Required modules"
   ]
  },
  {
   "cell_type": "markdown",
   "id": "d724f640",
   "metadata": {},
   "source": [
    "Dependencies for math operations and plotting"
   ]
  },
  {
   "cell_type": "code",
   "execution_count": null,
   "id": "82c887cf",
   "metadata": {},
   "outputs": [],
   "source": [
    "import math\n",
    "import numpy as np\n",
    "import matplotlib.pyplot as plt\n",
    "%matplotlib inline"
   ]
  },
  {
   "cell_type": "markdown",
   "id": "aec6fe64",
   "metadata": {},
   "source": [
    "## Functions of a single variable"
   ]
  },
  {
   "cell_type": "code",
   "execution_count": 10,
   "id": "656a5e65",
   "metadata": {},
   "outputs": [],
   "source": [
    "def f(x):\n",
    "    return 3.0*x**2 - 4.0*x + 5.0"
   ]
  },
  {
   "cell_type": "code",
   "execution_count": 11,
   "id": "cbd0ff0d",
   "metadata": {},
   "outputs": [
    {
     "data": {
      "text/plain": [
       "20.0"
      ]
     },
     "execution_count": 11,
     "metadata": {},
     "output_type": "execute_result"
    }
   ],
   "source": [
    "f(3.0)"
   ]
  },
  {
   "cell_type": "code",
   "execution_count": null,
   "id": "9cf5d2f7",
   "metadata": {},
   "outputs": [],
   "source": [
    "xs = np.arange(-5, 5, 0.25)\n",
    "ys = f(xs)\n",
    "plt.plot(xs, ys)"
   ]
  },
  {
   "cell_type": "markdown",
   "id": "06bfbe77",
   "metadata": {},
   "source": [
    "### Numerical derivative"
   ]
  },
  {
   "cell_type": "code",
   "execution_count": null,
   "id": "19bf7b0b",
   "metadata": {},
   "outputs": [],
   "source": [
    "h = 0.001\n",
    "x = 3.0\n",
    "f(x + h)  # fill in"
   ]
  },
  {
   "cell_type": "markdown",
   "id": "1375d509",
   "metadata": {},
   "source": [
    "## Functions of multiple variables"
   ]
  },
  {
   "cell_type": "code",
   "execution_count": 14,
   "id": "67d4062b",
   "metadata": {},
   "outputs": [
    {
     "name": "stdout",
     "output_type": "stream",
     "text": [
      "4.0\n"
     ]
    }
   ],
   "source": [
    "# Let's get more complex\n",
    "\n",
    "# Inputs\n",
    "a = 2.0\n",
    "b = -3.0\n",
    "c = 10.0\n",
    "\n",
    "# Function\n",
    "d = a*b + c\n",
    "print(d)"
   ]
  },
  {
   "cell_type": "markdown",
   "id": "2b04323c",
   "metadata": {},
   "source": [
    "### Numerical derivative"
   ]
  },
  {
   "cell_type": "code",
   "execution_count": null,
   "id": "b907051b",
   "metadata": {},
   "outputs": [],
   "source": [
    "h = 0.0001\n",
    "\n",
    "# Inputs\n",
    "a = 2.0\n",
    "b = -3.0\n",
    "c = 10.0\n",
    "\n",
    "\n",
    "# Function with variations\n",
    "d1 = a*b + c\n",
    "a += h\n",
    "d2 = a*b + c\n",
    "\n",
    "print('d1', d1)\n",
    "print('d2', d2)\n",
    "# print('slope', ...)  # fill in"
   ]
  },
  {
   "cell_type": "markdown",
   "id": "7ab6312a",
   "metadata": {},
   "source": [
    "# Micrograd"
   ]
  },
  {
   "cell_type": "markdown",
   "id": "e486c45e",
   "metadata": {},
   "source": [
    "## Value class"
   ]
  },
  {
   "cell_type": "code",
   "execution_count": null,
   "id": "bbacf392",
   "metadata": {},
   "outputs": [],
   "source": [
    "class Value:\n",
    "    \n",
    "    def __init__(self, data):\n",
    "        self.data = data\n",
    "        \n",
    "    def __repr__(self):\n",
    "        # Print a nice output\n",
    "        return f\"Value(data={self.data})\"\n",
    "    \n",
    "    def __add__(self, other):\n",
    "        # Addition operator\n",
    "        out = Value(self.data + other.data)\n",
    "        return out\n",
    "        \n",
    "    def __mul__(self, other):\n",
    "        # Multiplication operator\n",
    "        out = Value(self.data * other.data)\n",
    "        \n",
    "#     def tanh(self):\n",
    "#         # Hyperbolic tangent function\n",
    "#         x = self.data\n",
    "#         t = (math.exp(2.0*x) - 1.0)/(math.exp(2.0*x) + 1)\n",
    "#         out = Value(t, (self, ), 'tanh')\n",
    "#         return out"
   ]
  },
  {
   "cell_type": "code",
   "execution_count": 24,
   "id": "76b3a3f3",
   "metadata": {},
   "outputs": [
    {
     "name": "stdout",
     "output_type": "stream",
     "text": [
      "Value(data=2.0)\n",
      "Value(data=-3.0)\n"
     ]
    }
   ],
   "source": [
    "a = Value(2.0)\n",
    "b = Value(-3.0)\n",
    "print(a)\n",
    "print(b)"
   ]
  },
  {
   "cell_type": "markdown",
   "id": "20b2fcfb",
   "metadata": {},
   "source": [
    "## Visualization code (at time 25:07)"
   ]
  },
  {
   "cell_type": "markdown",
   "id": "b0751932",
   "metadata": {},
   "source": [
    "Copy pasted code with visualization functions"
   ]
  },
  {
   "cell_type": "code",
   "execution_count": 2,
   "id": "4170b350",
   "metadata": {},
   "outputs": [],
   "source": [
    "from graphviz import Digraph\n",
    "\n",
    "def trace(root):\n",
    "    # builds a set of all nodes and edges in a graph\n",
    "    nodes, edges = set(), set()\n",
    "    def build(v):\n",
    "        if v not in nodes:\n",
    "            nodes.add(v)\n",
    "            for child in v._prev:\n",
    "                edges.add((child, v))\n",
    "                build(child)\n",
    "    build(root)\n",
    "    return nodes, edges\n",
    "\n",
    "def draw_dot(root):\n",
    "    dot = Digraph(format='svg', graph_attr={'rankdir': 'LR'})  # LR = left to right\n",
    "    \n",
    "    nodes, edges = trace(root)\n",
    "    for n in nodes:\n",
    "        uid = str(id(n))\n",
    "        # for any value in the graph, create a rectangular ('record') node for it\n",
    "        dot.node(name = uid, label = \"{ data %.4f }\" % (n.data, ), shape='record')\n",
    "        if n._op:\n",
    "            # if this value is a result of some operation, create an op node for it\n",
    "            dot.node(name = uid + n._op, label = n._op)\n",
    "            # and connect this node to it\n",
    "            dot.edge(uid + n._op, uid)\n",
    "            \n",
    "    for n1, n2 in edges:\n",
    "        # connect n1 to the op node of n2\n",
    "        dot.edge(str(id(n1)), str(id(n2)) + n2._op)\n",
    "            \n",
    "    return dot"
   ]
  },
  {
   "cell_type": "markdown",
   "id": "573c4791",
   "metadata": {},
   "source": [
    "You can now visualize the ``Value`` objects"
   ]
  },
  {
   "cell_type": "code",
   "execution_count": null,
   "id": "554683da",
   "metadata": {},
   "outputs": [],
   "source": [
    "draw_dot(d)"
   ]
  },
  {
   "cell_type": "markdown",
   "id": "7d65601b",
   "metadata": {},
   "source": [
    "## Basic Neuron"
   ]
  },
  {
   "cell_type": "code",
   "execution_count": null,
   "id": "f6e6e414",
   "metadata": {},
   "outputs": [],
   "source": [
    "# Input x1, x2\n",
    "x1 = Value(2.0, label='x1')\n",
    "x2 = Value(0.0, label='x2')\n",
    "\n",
    "# Weights w1, w2\n",
    "w1 = Value(-3.0, label='w1')\n",
    "w2 = Value(1.0, label='w2')\n",
    "\n",
    "# Bias of the neuron\n",
    "b = Value(6.7, label='b')\n",
    "\n",
    "# Computation of x1*w1 + x2*w2 + b\n",
    "x1w1 = x1*w1; x1w1.label='x1*w1' \n",
    "x2w2 = x2*w2; x2w2.label='x2*w2'\n",
    "x1w1x2w2 = x1w1 + x2w2; x1w1x2w2.label='x2*w1 + x2*w2'\n",
    "n = x1w1x2w2 + b; n.label='n'\n",
    "draw_dot(n)\n",
    "\n",
    "# o = n.tanh(); o.label='o'  # you first need to uncomment tanh in the definition of Value\n",
    "# draw_dot(o)"
   ]
  },
  {
   "cell_type": "markdown",
   "id": "6daccbd0",
   "metadata": {},
   "source": [
    "## Topological sort code (at 1:18:45 )"
   ]
  },
  {
   "cell_type": "markdown",
   "id": "6be1fb19",
   "metadata": {},
   "source": [
    "Function that constructs the acyclical graph of the chain of operations such that we can start at the top and traverse each edge of the graph once."
   ]
  },
  {
   "cell_type": "code",
   "execution_count": null,
   "id": "c0c7eb0f",
   "metadata": {},
   "outputs": [],
   "source": [
    "# Define variable o first before running what follows"
   ]
  },
  {
   "cell_type": "code",
   "execution_count": null,
   "id": "699f6384",
   "metadata": {},
   "outputs": [],
   "source": [
    "topo = []\n",
    "visited = set()\n",
    "def build_topo(v):\n",
    "    if v not in visited:\n",
    "        visited.add(v)\n",
    "        for child in v._prev:\n",
    "            build_topo(child)\n",
    "        topo.append(v)\n",
    "build_topo(o)\n",
    "topo"
   ]
  },
  {
   "cell_type": "code",
   "execution_count": null,
   "id": "cf5cf3db",
   "metadata": {},
   "outputs": [],
   "source": [
    "o.grad = 1.0 # initialize the gradient of the last node\n",
    "\n",
    "# Initialize the gradients in the order given by the topological ordering\n",
    "for node in reversed(topo):\n",
    "    node._backward()\n",
    "    \n",
    "draw_dot(o)"
   ]
  },
  {
   "cell_type": "markdown",
   "id": "eb83e84b",
   "metadata": {},
   "source": [
    "## 1:39:54 Pytorch comparison"
   ]
  },
  {
   "cell_type": "code",
   "execution_count": null,
   "id": "3a200ae8",
   "metadata": {},
   "outputs": [],
   "source": [
    "import torch\n",
    "\n",
    "x1 = torch.Tensor([2.0]).double()                ; x1.requires_grad = True\n",
    "x2 = torch.Tensor([0.0]).double()                ; x2.requires_grad = True\n",
    "w1 = torch.Tensor([-3.0]).double()               ; w1.requires_grad = True\n",
    "w2 = torch.Tensor([1.0]).double()                ; w2.requires_grad = True\n",
    "b = torch.Tensor([6.8813735870195432]).double()  ; b.requires_grad = True\n",
    "n = x1*w1 + x2*w2 + b\n",
    "o = torch.tanh(n)\n",
    "\n",
    "print(o.data.item())\n",
    "o.backward()\n",
    "\n",
    "print('---')\n",
    "print('x2', x2.grad.item())\n",
    "print('w2', w2.grad.item())\n",
    "print('x1', x1.grad.item())\n",
    "print('w1', w1.grad.item())"
   ]
  },
  {
   "cell_type": "markdown",
   "id": "73a9a6a0",
   "metadata": {},
   "source": [
    "## 1:44:37 Neuron"
   ]
  },
  {
   "cell_type": "code",
   "execution_count": null,
   "id": "f18ac6da",
   "metadata": {},
   "outputs": [],
   "source": [
    "class Neuron:\n",
    "    def __init__(self, nin):\n",
    "        self.w = [Value(random.uniform(-1,1)) for _ in range(nin)]\n",
    "        self.b = Value(random.uniform(-1,1))"
   ]
  },
  {
   "cell_type": "markdown",
   "id": "df6a4b53",
   "metadata": {},
   "source": [
    "## 1:48:22 Layer"
   ]
  },
  {
   "cell_type": "code",
   "execution_count": null,
   "id": "fd359e37",
   "metadata": {},
   "outputs": [],
   "source": [
    "class Layer:\n",
    "    def __init__(self, nin, nout):\n",
    "        self.neurons = [Neuron(nin) for _ in range(nout)]\n",
    "    \n",
    "    def __call__(self, x):\n",
    "        outs = [n(x) for n in self.neurons]\n",
    "        return outs"
   ]
  },
  {
   "cell_type": "markdown",
   "id": "cb6b9e21",
   "metadata": {},
   "source": [
    "## 1:49:19 MLP"
   ]
  },
  {
   "cell_type": "code",
   "execution_count": null,
   "id": "1c664d8b",
   "metadata": {},
   "outputs": [],
   "source": [
    "class MLP:\n",
    "    \n",
    "    def __init__(self, nin, nouts):\n",
    "        sz = [nin] + nouts\n",
    "        self.layers = [Layer(sz[i], sz[i+1]) for i in range(len(nouts))]\n",
    "        \n",
    "    def __call__(self, x):\n",
    "        for layer in self.layers:\n",
    "            x = layer(x)\n",
    "        return x"
   ]
  },
  {
   "cell_type": "markdown",
   "id": "bbd528f6",
   "metadata": {},
   "source": [
    "## 1:51:07 Example dataset"
   ]
  },
  {
   "cell_type": "code",
   "execution_count": null,
   "id": "01578b7d",
   "metadata": {},
   "outputs": [],
   "source": [
    "xs = [\n",
    "    [2.0, 3.0, -1.0],\n",
    "    [3.0, -1.0, 0.5],\n",
    "    [0.5, 1.0, 1.0],\n",
    "    [1.0, 1.0, -1.0],\n",
    "]\n",
    "ys = [1.0, -1.0, -1.0, 1.0]  # desired targets"
   ]
  },
  {
   "cell_type": "code",
   "execution_count": null,
   "id": "ac13e478",
   "metadata": {},
   "outputs": [],
   "source": []
  }
 ],
 "metadata": {
  "kernelspec": {
   "display_name": "Python 3 (ipykernel)",
   "language": "python",
   "name": "python3"
  },
  "language_info": {
   "codemirror_mode": {
    "name": "ipython",
    "version": 3
   },
   "file_extension": ".py",
   "mimetype": "text/x-python",
   "name": "python",
   "nbconvert_exporter": "python",
   "pygments_lexer": "ipython3",
   "version": "3.9.13"
  }
 },
 "nbformat": 4,
 "nbformat_minor": 5
}
